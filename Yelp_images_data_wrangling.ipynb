{
 "cells": [
  {
   "cell_type": "code",
   "execution_count": 1,
   "metadata": {
    "collapsed": false
   },
   "outputs": [],
   "source": [
    "import os\n",
    "import numpy as np\n",
    "import pandas as pd\n",
    "import scipy.io as sio\n",
    "import time\n",
    "#from numba import jit, autojit"
   ]
  },
  {
   "cell_type": "markdown",
   "metadata": {},
   "source": [
    "<h1> Loading data"
   ]
  },
  {
   "cell_type": "code",
   "execution_count": 2,
   "metadata": {
    "collapsed": false
   },
   "outputs": [],
   "source": [
    "pathhome = os.getcwd()\n",
    "layer_name = 'prob'\n",
    "pathcnn = pathhome+'\\\\outcome\\\\imagenet_vgg_f\\\\'+layer_name"
   ]
  },
  {
   "cell_type": "markdown",
   "metadata": {},
   "source": [
    "<h2> Loading csv files with photo ids/business ids and sample submussion "
   ]
  },
  {
   "cell_type": "code",
   "execution_count": 3,
   "metadata": {
    "collapsed": false
   },
   "outputs": [],
   "source": [
    "# Business ids and photo ids train data set\n",
    "df_train_photo_ids = pd.read_csv('train_photo_to_biz_ids.csv')\n",
    "# Business ids and photo ids test data set\n",
    "df_test_photo_ids = pd.read_csv('test_photo_to_biz.csv')"
   ]
  },
  {
   "cell_type": "markdown",
   "metadata": {},
   "source": [
    "<h2> Loading CNNcodes from images"
   ]
  },
  {
   "cell_type": "code",
   "execution_count": 4,
   "metadata": {
    "collapsed": true
   },
   "outputs": [],
   "source": [
    "def getCNNcodes(matfile, path):\n",
    "    data = sio.loadmat(path+'\\\\'+matfile)\n",
    "    CNNcodes = []\n",
    "    photoids = []\n",
    "    for d in data['data']:\n",
    "        photoid = (d[0][0][0][0][0][:-4])\n",
    "        photoids.append(photoid)\n",
    "        CNNcode = np.array(d[0][0][0][1].flatten())\n",
    "        CNNcodes.append(CNNcode)\n",
    "    return photoids, CNNcodes"
   ]
  },
  {
   "cell_type": "code",
   "execution_count": 5,
   "metadata": {
    "collapsed": true
   },
   "outputs": [],
   "source": [
    "def duplicate_images(CNNcodes):    \n",
    "    seen = set()\n",
    "    dubs = []\n",
    "    for c in CNNcodes:\n",
    "        cstr = np.array(c).mean()\n",
    "        if cstr not in seen:\n",
    "            seen.add(cstr)\n",
    "        else:\n",
    "            dubs.append(cstr)\n",
    "        del cstr\n",
    "    CNNcodes_nodubs = [c for c in CNNcodes if np.array(c).mean() not in dubs]\n",
    "    return np.array(CNNcodes_nodubs)            "
   ]
  },
  {
   "cell_type": "markdown",
   "metadata": {},
   "source": [
    "<h3> Train data"
   ]
  },
  {
   "cell_type": "code",
   "execution_count": 6,
   "metadata": {
    "collapsed": false,
    "scrolled": true
   },
   "outputs": [
    {
     "name": "stderr",
     "output_type": "stream",
     "text": [
      "C:\\Users\\asr1g12\\Anaconda3\\envs\\py27\\lib\\site-packages\\ipykernel\\__main__.py:9: FutureWarning: convert_objects is deprecated.  Use the data-type specific converters pd.to_datetime, pd.to_timedelta and pd.to_numeric.\n"
     ]
    }
   ],
   "source": [
    "df_CNNcodes_train =pd.DataFrame({'photo_id': [],'CNNcode': []})\n",
    "\n",
    "# Extracting CNNcodes and photoids for train images\n",
    "for f in os.listdir(pathcnn+\"\\\\train\"):\n",
    "    photoids, CNNcodes = getCNNcodes(f,pathcnn+\"\\\\train\")\n",
    "    df = pd.DataFrame({'photo_id': photoids,'CNNcode': CNNcodes})\n",
    "    df_CNNcodes_train =pd.concat([df_CNNcodes_train, df])\n",
    "    \n",
    "df_CNNcodes_train = df_CNNcodes_train.convert_objects(convert_numeric = True)"
   ]
  },
  {
   "cell_type": "code",
   "execution_count": 7,
   "metadata": {
    "collapsed": false
   },
   "outputs": [],
   "source": [
    "df_train_photo_biz_codes = pd.merge(df_train_photo_ids, df_CNNcodes_train, on='photo_id')\n",
    "del df_CNNcodes_train"
   ]
  },
  {
   "cell_type": "code",
   "execution_count": 8,
   "metadata": {
    "collapsed": true
   },
   "outputs": [],
   "source": [
    "grouped = df_train_photo_biz_codes.groupby('business_id')\n",
    "df = grouped.aggregate(lambda x: list(x))\n",
    "df.drop('photo_id', axis=1, inplace=True)"
   ]
  },
  {
   "cell_type": "code",
   "execution_count": 9,
   "metadata": {
    "collapsed": false
   },
   "outputs": [
    {
     "name": "stdout",
     "output_type": "stream",
     "text": [
      "Wall time: 269 ms\n"
     ]
    }
   ],
   "source": [
    "%%time\n",
    "df[\"meanCNN\"] = \"\"\n",
    "    \n",
    "for i,r in df.head(100).iterrows():\n",
    "    CNNcode = np.array(r['CNNcode'])\n",
    "    #CNNcode = duplicate_images(CNNcodes)\n",
    "    meanCNN = CNNcode.mean(axis=0)\n",
    "    df.loc[i, 'meanCNN'] = meanCNN"
   ]
  },
  {
   "cell_type": "code",
   "execution_count": 10,
   "metadata": {
    "collapsed": false
   },
   "outputs": [
    {
     "name": "stdout",
     "output_type": "stream",
     "text": [
      "Wall time: 1.43 s\n"
     ]
    }
   ],
   "source": [
    "%%time\n",
    "df[\"meanCNN\"] = \"\"\n",
    "    \n",
    "for i,r in df.iterrows():\n",
    "    CNNcode = np.array(r['CNNcode'])\n",
    "    #CNNcode = duplicate_images(CNNcodes)\n",
    "    meanCNN = CNNcode.mean(axis=0)\n",
    "    df.loc[i, 'meanCNN'] = meanCNN\n",
    "        \n",
    "#df.drop('CNNcode', axis=1, inplace = True)"
   ]
  },
  {
   "cell_type": "code",
   "execution_count": 11,
   "metadata": {
    "collapsed": true
   },
   "outputs": [],
   "source": [
    "df.drop('CNNcode', axis=1, inplace = True)"
   ]
  },
  {
   "cell_type": "code",
   "execution_count": 12,
   "metadata": {
    "collapsed": false
   },
   "outputs": [],
   "source": [
    "name = 'df_train_'+layer_name\n",
    "df.to_pickle(name)"
   ]
  },
  {
   "cell_type": "markdown",
   "metadata": {},
   "source": [
    "<h3> Test data"
   ]
  },
  {
   "cell_type": "code",
   "execution_count": 13,
   "metadata": {
    "collapsed": false
   },
   "outputs": [
    {
     "name": "stderr",
     "output_type": "stream",
     "text": [
      "C:\\Users\\asr1g12\\Anaconda3\\envs\\py27\\lib\\site-packages\\ipykernel\\__main__.py:9: FutureWarning: convert_objects is deprecated.  Use the data-type specific converters pd.to_datetime, pd.to_timedelta and pd.to_numeric.\n"
     ]
    }
   ],
   "source": [
    "df_CNNcodes_test =pd.DataFrame({'photo_id': [],'CNNcode': []})\n",
    "\n",
    "# Extracting CNNcodes and photoids for test images\n",
    "for f in os.listdir(pathcnn+\"\\\\test\"):\n",
    "    photoids, CNNcodes = getCNNcodes(f, pathcnn+\"\\\\test\")\n",
    "    df = pd.DataFrame({'photo_id': photoids,'CNNcode': CNNcodes})\n",
    "    df_CNNcodes_test =pd.concat([df_CNNcodes_test, df])\n",
    "    \n",
    "df_CNNcodes_test = df_CNNcodes_test.convert_objects(convert_numeric = True)"
   ]
  },
  {
   "cell_type": "code",
   "execution_count": 14,
   "metadata": {
    "collapsed": false
   },
   "outputs": [
    {
     "data": {
      "text/html": [
       "<div>\n",
       "<table border=\"1\" class=\"dataframe\">\n",
       "  <thead>\n",
       "    <tr style=\"text-align: right;\">\n",
       "      <th></th>\n",
       "      <th>CNNcode</th>\n",
       "      <th>photo_id</th>\n",
       "    </tr>\n",
       "  </thead>\n",
       "  <tbody>\n",
       "    <tr>\n",
       "      <th>0</th>\n",
       "      <td>[-0.560647, 4.05968, -0.504945, -3.20145, -1.4...</td>\n",
       "      <td>1</td>\n",
       "    </tr>\n",
       "    <tr>\n",
       "      <th>1</th>\n",
       "      <td>[-3.4193, 3.92915, 0.398823, -1.37973, -0.6521...</td>\n",
       "      <td>100</td>\n",
       "    </tr>\n",
       "    <tr>\n",
       "      <th>2</th>\n",
       "      <td>[0.147573, -1.07164, 1.13305, 0.686834, 1.8681...</td>\n",
       "      <td>1000</td>\n",
       "    </tr>\n",
       "    <tr>\n",
       "      <th>3</th>\n",
       "      <td>[-0.0503105, 3.64368, -2.63264, -4.00568, -2.1...</td>\n",
       "      <td>10000</td>\n",
       "    </tr>\n",
       "    <tr>\n",
       "      <th>4</th>\n",
       "      <td>[1.32161, 1.62675, 0.806612, -0.725322, -1.221...</td>\n",
       "      <td>100000</td>\n",
       "    </tr>\n",
       "  </tbody>\n",
       "</table>\n",
       "</div>"
      ],
      "text/plain": [
       "                                             CNNcode  photo_id\n",
       "0  [-0.560647, 4.05968, -0.504945, -3.20145, -1.4...         1\n",
       "1  [-3.4193, 3.92915, 0.398823, -1.37973, -0.6521...       100\n",
       "2  [0.147573, -1.07164, 1.13305, 0.686834, 1.8681...      1000\n",
       "3  [-0.0503105, 3.64368, -2.63264, -4.00568, -2.1...     10000\n",
       "4  [1.32161, 1.62675, 0.806612, -0.725322, -1.221...    100000"
      ]
     },
     "execution_count": 14,
     "metadata": {},
     "output_type": "execute_result"
    }
   ],
   "source": [
    "df_CNNcodes_test.head(5)"
   ]
  },
  {
   "cell_type": "code",
   "execution_count": 15,
   "metadata": {
    "collapsed": false
   },
   "outputs": [],
   "source": [
    "df_test_photo_biz_codes = pd.merge(df_test_photo_ids, df_CNNcodes_test, on='photo_id')\n",
    "del df_CNNcodes_test"
   ]
  },
  {
   "cell_type": "code",
   "execution_count": 16,
   "metadata": {
    "collapsed": true
   },
   "outputs": [],
   "source": [
    "grouped = df_test_photo_biz_codes.groupby('business_id')\n",
    "df = grouped.aggregate(lambda x: list(x))\n",
    "df.drop('photo_id', axis=1, inplace=True)"
   ]
  },
  {
   "cell_type": "code",
   "execution_count": 17,
   "metadata": {
    "collapsed": false
   },
   "outputs": [
    {
     "data": {
      "text/html": [
       "<div>\n",
       "<table border=\"1\" class=\"dataframe\">\n",
       "  <thead>\n",
       "    <tr style=\"text-align: right;\">\n",
       "      <th></th>\n",
       "      <th>CNNcode</th>\n",
       "    </tr>\n",
       "    <tr>\n",
       "      <th>business_id</th>\n",
       "      <th></th>\n",
       "    </tr>\n",
       "  </thead>\n",
       "  <tbody>\n",
       "    <tr>\n",
       "      <th>003sg</th>\n",
       "      <td>[[-3.95446, -0.296355, -1.34097, -2.55254, -1....</td>\n",
       "    </tr>\n",
       "    <tr>\n",
       "      <th>00er5</th>\n",
       "      <td>[[-3.10838, 0.215555, 0.215646, -0.0465141, 0....</td>\n",
       "    </tr>\n",
       "    <tr>\n",
       "      <th>00kad</th>\n",
       "      <td>[[-3.61699, 1.46668, -1.30801, -2.57887, -2.32...</td>\n",
       "    </tr>\n",
       "    <tr>\n",
       "      <th>00mc6</th>\n",
       "      <td>[[-2.63088, -0.410354, -0.222674, -0.0535168, ...</td>\n",
       "    </tr>\n",
       "    <tr>\n",
       "      <th>00q7x</th>\n",
       "      <td>[[-0.454271, 1.86136, -4.61673, -2.36174, -1.2...</td>\n",
       "    </tr>\n",
       "  </tbody>\n",
       "</table>\n",
       "</div>"
      ],
      "text/plain": [
       "                                                       CNNcode\n",
       "business_id                                                   \n",
       "003sg        [[-3.95446, -0.296355, -1.34097, -2.55254, -1....\n",
       "00er5        [[-3.10838, 0.215555, 0.215646, -0.0465141, 0....\n",
       "00kad        [[-3.61699, 1.46668, -1.30801, -2.57887, -2.32...\n",
       "00mc6        [[-2.63088, -0.410354, -0.222674, -0.0535168, ...\n",
       "00q7x        [[-0.454271, 1.86136, -4.61673, -2.36174, -1.2..."
      ]
     },
     "execution_count": 17,
     "metadata": {},
     "output_type": "execute_result"
    }
   ],
   "source": [
    "df.head(5)"
   ]
  },
  {
   "cell_type": "code",
   "execution_count": 18,
   "metadata": {
    "collapsed": false
   },
   "outputs": [
    {
     "name": "stdout",
     "output_type": "stream",
     "text": [
      "Wall time: 1.48 s\n",
      "Parser   : 156 ms\n"
     ]
    }
   ],
   "source": [
    "%%time\n",
    "df[\"meanCNN\"] = \"\"\n",
    "    \n",
    "for i,r in df.head(100).iterrows():\n",
    "    CNNcode = np.array(r['CNNcode'])\n",
    "    #CNNcode = duplicate_images(CNNcode)\n",
    "    meanCNN = CNNcode.mean(axis=0)\n",
    "    df.loc[i, 'meanCNN'] = meanCNN"
   ]
  },
  {
   "cell_type": "code",
   "execution_count": 19,
   "metadata": {
    "collapsed": false
   },
   "outputs": [
    {
     "name": "stdout",
     "output_type": "stream",
     "text": [
      "Wall time: 28.7 s\n"
     ]
    }
   ],
   "source": [
    "%%time\n",
    "df[\"meanCNN\"] = \"\"\n",
    "    \n",
    "for i,r in df.iterrows():\n",
    "    CNNcode = np.array(r['CNNcode'])\n",
    "    #CNNcode = duplicate_images(CNNcodes)\n",
    "    meanCNN = CNNcode.mean(axis=0)\n",
    "    df.loc[i, 'meanCNN'] = meanCNN\n",
    "        \n",
    "df.drop('CNNcode', axis=1, inplace = True)"
   ]
  },
  {
   "cell_type": "code",
   "execution_count": 20,
   "metadata": {
    "collapsed": false
   },
   "outputs": [
    {
     "data": {
      "text/html": [
       "<div>\n",
       "<table border=\"1\" class=\"dataframe\">\n",
       "  <thead>\n",
       "    <tr style=\"text-align: right;\">\n",
       "      <th></th>\n",
       "      <th>meanCNN</th>\n",
       "    </tr>\n",
       "    <tr>\n",
       "      <th>business_id</th>\n",
       "      <th></th>\n",
       "    </tr>\n",
       "  </thead>\n",
       "  <tbody>\n",
       "    <tr>\n",
       "      <th>003sg</th>\n",
       "      <td>[-0.920977, 1.1955, -0.858639, -2.26293, -0.58...</td>\n",
       "    </tr>\n",
       "    <tr>\n",
       "      <th>00er5</th>\n",
       "      <td>[-1.1308, 0.78991, -0.919203, -2.25263, -0.615...</td>\n",
       "    </tr>\n",
       "    <tr>\n",
       "      <th>00kad</th>\n",
       "      <td>[-0.890779, 0.995832, -1.30596, -2.30876, -0.9...</td>\n",
       "    </tr>\n",
       "    <tr>\n",
       "      <th>00mc6</th>\n",
       "      <td>[-0.35268, 1.01384, -0.390578, -1.05943, 0.124...</td>\n",
       "    </tr>\n",
       "    <tr>\n",
       "      <th>00q7x</th>\n",
       "      <td>[-0.813104, 1.19193, -1.09444, -1.90327, -0.64...</td>\n",
       "    </tr>\n",
       "  </tbody>\n",
       "</table>\n",
       "</div>"
      ],
      "text/plain": [
       "                                                       meanCNN\n",
       "business_id                                                   \n",
       "003sg        [-0.920977, 1.1955, -0.858639, -2.26293, -0.58...\n",
       "00er5        [-1.1308, 0.78991, -0.919203, -2.25263, -0.615...\n",
       "00kad        [-0.890779, 0.995832, -1.30596, -2.30876, -0.9...\n",
       "00mc6        [-0.35268, 1.01384, -0.390578, -1.05943, 0.124...\n",
       "00q7x        [-0.813104, 1.19193, -1.09444, -1.90327, -0.64..."
      ]
     },
     "execution_count": 20,
     "metadata": {},
     "output_type": "execute_result"
    }
   ],
   "source": [
    "df.head(5)"
   ]
  },
  {
   "cell_type": "code",
   "execution_count": 21,
   "metadata": {
    "collapsed": false
   },
   "outputs": [],
   "source": [
    "name = 'df_test_'+layer_name\n",
    "df.to_pickle(name)"
   ]
  }
 ],
 "metadata": {
  "kernelspec": {
   "display_name": "Python 2",
   "language": "python",
   "name": "python2"
  },
  "language_info": {
   "codemirror_mode": {
    "name": "ipython",
    "version": 2
   },
   "file_extension": ".py",
   "mimetype": "text/x-python",
   "name": "python",
   "nbconvert_exporter": "python",
   "pygments_lexer": "ipython2",
   "version": "2.7.11"
  }
 },
 "nbformat": 4,
 "nbformat_minor": 0
}
