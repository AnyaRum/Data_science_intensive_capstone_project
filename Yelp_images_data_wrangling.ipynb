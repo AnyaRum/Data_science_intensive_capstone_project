{
 "cells": [
  {
   "cell_type": "code",
   "execution_count": 1,
   "metadata": {
    "collapsed": false
   },
   "outputs": [],
   "source": [
    "import os\n",
    "import numpy as np\n",
    "import pandas as pd\n",
    "import scipy.io as sio\n",
    "import time\n",
    "#from numba import jit, autojit"
   ]
  },
  {
   "cell_type": "markdown",
   "metadata": {},
   "source": [
    "<h1> Loading data"
   ]
  },
  {
   "cell_type": "code",
   "execution_count": 2,
   "metadata": {
    "collapsed": false
   },
   "outputs": [],
   "source": [
    "pathhome = os.getcwd()\n",
    "layer_name = 'fc7'\n",
    "pathcnn = pathhome+'\\\\outcome\\\\imagenet_vgg_f\\\\'+layer_name"
   ]
  },
  {
   "cell_type": "markdown",
   "metadata": {},
   "source": [
    "<h2> Loading csv files with photo ids/business ids and sample submussion "
   ]
  },
  {
   "cell_type": "code",
   "execution_count": 3,
   "metadata": {
    "collapsed": false
   },
   "outputs": [],
   "source": [
    "# Business ids and photo ids train data set\n",
    "df_train_photo_ids = pd.read_csv('train_photo_to_biz_ids.csv')\n",
    "# Business ids and photo ids test data set\n",
    "df_test_photo_ids = pd.read_csv('test_photo_to_biz.csv')"
   ]
  },
  {
   "cell_type": "markdown",
   "metadata": {},
   "source": [
    "<h2> Loading CNNcodes from images"
   ]
  },
  {
   "cell_type": "code",
   "execution_count": 4,
   "metadata": {
    "collapsed": true
   },
   "outputs": [],
   "source": [
    "def getCNNcodes(matfile, path):\n",
    "    data = sio.loadmat(path+'\\\\'+matfile)\n",
    "    CNNcodes = []\n",
    "    photoids = []\n",
    "    for d in data['data']:\n",
    "        photoid = (d[0][0][0][0][0][:-4])\n",
    "        photoids.append(photoid)\n",
    "        CNNcode = np.array(d[0][0][0][1].flatten())\n",
    "        CNNcodes.append(CNNcode)\n",
    "    return photoids, CNNcodes"
   ]
  },
  {
   "cell_type": "code",
   "execution_count": 5,
   "metadata": {
    "collapsed": true
   },
   "outputs": [],
   "source": [
    "def duplicate_images(CNNcodes):    \n",
    "    seen = set()\n",
    "    dubs = []\n",
    "    for c in CNNcodes:\n",
    "        cstr = np.array(c).mean()\n",
    "        if cstr not in seen:\n",
    "            seen.add(cstr)\n",
    "        else:\n",
    "            dubs.append(cstr)\n",
    "        del cstr\n",
    "    CNNcodes_nodubs = [c for c in CNNcodes if np.array(c).mean() not in dubs]\n",
    "    return np.array(CNNcodes_nodubs)            "
   ]
  },
  {
   "cell_type": "markdown",
   "metadata": {},
   "source": [
    "<h3> Train data"
   ]
  },
  {
   "cell_type": "code",
   "execution_count": 6,
   "metadata": {
    "collapsed": false
   },
   "outputs": [],
   "source": [
    "df_CNNcodes_train =pd.DataFrame({'photo_id': [],'CNNcode': []})\n",
    "\n",
    "# Extracting CNNcodes and photoids for train images\n",
    "for f in os.listdir(pathcnn+\"\\\\train\"):\n",
    "    photoids, CNNcodes = getCNNcodes(f,pathcnn+\"\\\\train\")\n",
    "    df = pd.DataFrame({'photo_id': photoids,'CNNcode': CNNcodes})\n",
    "    df_CNNcodes_train =pd.concat([df_CNNcodes_train, df])\n",
    "    \n",
    "df_CNNcodes_train = df_CNNcodes_train.convert_objects(convert_numeric = True)"
   ]
  },
  {
   "cell_type": "code",
   "execution_count": 7,
   "metadata": {
    "collapsed": false
   },
   "outputs": [],
   "source": [
    "df_train_photo_biz_codes = pd.merge(df_train_photo_ids, df_CNNcodes_train, on='photo_id')\n",
    "del df_CNNcodes_train"
   ]
  },
  {
   "cell_type": "code",
   "execution_count": 8,
   "metadata": {
    "collapsed": true
   },
   "outputs": [],
   "source": [
    "grouped = df_train_photo_biz_codes.groupby('business_id')\n",
    "df = grouped.aggregate(lambda x: list(x))\n",
    "df.drop('photo_id', axis=1, inplace=True)"
   ]
  },
  {
   "cell_type": "code",
   "execution_count": 28,
   "metadata": {
    "collapsed": false
   },
   "outputs": [
    {
     "name": "stdout",
     "output_type": "stream",
     "text": [
      "Wall time: 1min 30s\n"
     ]
    }
   ],
   "source": [
    "%%time\n",
    "df[\"meanCNN\"] = \"\"\n",
    "    \n",
    "for i,r in df.iterrows():\n",
    "    CNNcode = np.array(r['CNNcode'])\n",
    "    #CNNcode = duplicate_images(CNNcodes)\n",
    "    meanCNN = CNNcode.mean(axis=0)\n",
    "    df.loc[i, 'meanCNN'] = meanCNN\n",
    "        \n",
    "#df.drop('CNNcode', axis=1, inplace = True)"
   ]
  },
  {
   "cell_type": "code",
   "execution_count": 29,
   "metadata": {
    "collapsed": true
   },
   "outputs": [],
   "source": [
    "df.drop('CNNcode', axis=1, inplace = True)"
   ]
  },
  {
   "cell_type": "code",
   "execution_count": 30,
   "metadata": {
    "collapsed": false
   },
   "outputs": [],
   "source": [
    "name = 'df_train_'+layer_name\n",
    "df.to_pickle(name)"
   ]
  },
  {
   "cell_type": "markdown",
   "metadata": {},
   "source": [
    "<h3> Test data"
   ]
  },
  {
   "cell_type": "code",
   "execution_count": 6,
   "metadata": {
    "collapsed": false
   },
   "outputs": [],
   "source": [
    "df_CNNcodes_test =pd.DataFrame({'photo_id': [],'CNNcode': []})\n",
    "\n",
    "# Extracting CNNcodes and photoids for test images\n",
    "for f in os.listdir(pathcnn+\"\\\\test\"):\n",
    "    photoids, CNNcodes = getCNNcodes(f, pathcnn+\"\\\\test\")\n",
    "    df = pd.DataFrame({'photo_id': photoids,'CNNcode': CNNcodes})\n",
    "    df_CNNcodes_test =pd.concat([df_CNNcodes_test, df])\n",
    "    \n",
    "df_CNNcodes_test = df_CNNcodes_test.convert_objects(convert_numeric = True)"
   ]
  },
  {
   "cell_type": "code",
   "execution_count": 7,
   "metadata": {
    "collapsed": false
   },
   "outputs": [
    {
     "data": {
      "text/html": [
       "<div style=\"max-height:1000px;max-width:1500px;overflow:auto;\">\n",
       "<table border=\"1\" class=\"dataframe\">\n",
       "  <thead>\n",
       "    <tr style=\"text-align: right;\">\n",
       "      <th></th>\n",
       "      <th>CNNcode</th>\n",
       "      <th>photo_id</th>\n",
       "    </tr>\n",
       "  </thead>\n",
       "  <tbody>\n",
       "    <tr>\n",
       "      <th>0</th>\n",
       "      <td> [0.0, 0.946053, 0.0, 0.0, 0.0, 0.0, 0.0, 0.0, ...</td>\n",
       "      <td>      1</td>\n",
       "    </tr>\n",
       "    <tr>\n",
       "      <th>1</th>\n",
       "      <td> [0.0, 0.0, 6.03987, 0.0, 0.0, 0.0, 0.0, 0.0, 0...</td>\n",
       "      <td>    100</td>\n",
       "    </tr>\n",
       "    <tr>\n",
       "      <th>2</th>\n",
       "      <td> [0.0, 0.0, 0.0, 2.36283, 0.0, 0.0, 0.0, 0.0, 1...</td>\n",
       "      <td>   1000</td>\n",
       "    </tr>\n",
       "    <tr>\n",
       "      <th>3</th>\n",
       "      <td> [0.0, 0.209569, 0.0, 5.57508, 0.0, 0.0, 1.2899...</td>\n",
       "      <td>  10000</td>\n",
       "    </tr>\n",
       "    <tr>\n",
       "      <th>4</th>\n",
       "      <td> [0.0, 0.0, 0.0, 0.0, 0.0, 0.0, 0.0, 0.0, 0.0, ...</td>\n",
       "      <td> 100000</td>\n",
       "    </tr>\n",
       "  </tbody>\n",
       "</table>\n",
       "</div>"
      ],
      "text/plain": [
       "                                             CNNcode  photo_id\n",
       "0  [0.0, 0.946053, 0.0, 0.0, 0.0, 0.0, 0.0, 0.0, ...         1\n",
       "1  [0.0, 0.0, 6.03987, 0.0, 0.0, 0.0, 0.0, 0.0, 0...       100\n",
       "2  [0.0, 0.0, 0.0, 2.36283, 0.0, 0.0, 0.0, 0.0, 1...      1000\n",
       "3  [0.0, 0.209569, 0.0, 5.57508, 0.0, 0.0, 1.2899...     10000\n",
       "4  [0.0, 0.0, 0.0, 0.0, 0.0, 0.0, 0.0, 0.0, 0.0, ...    100000"
      ]
     },
     "execution_count": 7,
     "metadata": {},
     "output_type": "execute_result"
    }
   ],
   "source": [
    "df_CNNcodes_test.head(5)"
   ]
  },
  {
   "cell_type": "code",
   "execution_count": 8,
   "metadata": {
    "collapsed": false
   },
   "outputs": [],
   "source": [
    "df_test_photo_biz_codes = pd.merge(df_test_photo_ids, df_CNNcodes_test, on='photo_id')\n",
    "del df_CNNcodes_test"
   ]
  },
  {
   "cell_type": "code",
   "execution_count": 9,
   "metadata": {
    "collapsed": true
   },
   "outputs": [],
   "source": [
    "grouped = df_test_photo_biz_codes.groupby('business_id')\n",
    "df = grouped.aggregate(lambda x: list(x))\n",
    "df.drop('photo_id', axis=1, inplace=True)"
   ]
  },
  {
   "cell_type": "code",
   "execution_count": 10,
   "metadata": {
    "collapsed": false
   },
   "outputs": [
    {
     "data": {
      "text/html": [
       "<div style=\"max-height:1000px;max-width:1500px;overflow:auto;\">\n",
       "<table border=\"1\" class=\"dataframe\">\n",
       "  <thead>\n",
       "    <tr style=\"text-align: right;\">\n",
       "      <th></th>\n",
       "      <th>CNNcode</th>\n",
       "    </tr>\n",
       "    <tr>\n",
       "      <th>business_id</th>\n",
       "      <th></th>\n",
       "    </tr>\n",
       "  </thead>\n",
       "  <tbody>\n",
       "    <tr>\n",
       "      <th>003sg</th>\n",
       "      <td> [[0.0, 5.04013, 0.0, 0.0, 0.0, 0.0, 0.0, 0.0, ...</td>\n",
       "    </tr>\n",
       "    <tr>\n",
       "      <th>00er5</th>\n",
       "      <td> [[0.0, 0.0, 6.04672, 0.0, 0.0, 0.0, 0.0, 0.0, ...</td>\n",
       "    </tr>\n",
       "    <tr>\n",
       "      <th>00kad</th>\n",
       "      <td> [[12.2383, 0.0, 0.0, 0.0, 0.0, 0.0, 0.0, 0.0, ...</td>\n",
       "    </tr>\n",
       "    <tr>\n",
       "      <th>00mc6</th>\n",
       "      <td> [[0.0, 0.445739, 0.0, 7.15255, 0.0, 6.67938, 0...</td>\n",
       "    </tr>\n",
       "    <tr>\n",
       "      <th>00q7x</th>\n",
       "      <td> [[0.0, 0.0, 0.0, 0.0, 0.0, 2.73037, 0.0, 0.0, ...</td>\n",
       "    </tr>\n",
       "  </tbody>\n",
       "</table>\n",
       "</div>"
      ],
      "text/plain": [
       "                                                       CNNcode\n",
       "business_id                                                   \n",
       "003sg        [[0.0, 5.04013, 0.0, 0.0, 0.0, 0.0, 0.0, 0.0, ...\n",
       "00er5        [[0.0, 0.0, 6.04672, 0.0, 0.0, 0.0, 0.0, 0.0, ...\n",
       "00kad        [[12.2383, 0.0, 0.0, 0.0, 0.0, 0.0, 0.0, 0.0, ...\n",
       "00mc6        [[0.0, 0.445739, 0.0, 7.15255, 0.0, 6.67938, 0...\n",
       "00q7x        [[0.0, 0.0, 0.0, 0.0, 0.0, 2.73037, 0.0, 0.0, ..."
      ]
     },
     "execution_count": 10,
     "metadata": {},
     "output_type": "execute_result"
    }
   ],
   "source": [
    "df.head(5)"
   ]
  },
  {
   "cell_type": "code",
   "execution_count": 19,
   "metadata": {
    "collapsed": false
   },
   "outputs": [
    {
     "name": "stdout",
     "output_type": "stream",
     "text": [
      "Wall time: 13.9 s\n"
     ]
    }
   ],
   "source": [
    "%%time\n",
    "df[\"meanCNN\"] = \"\"\n",
    "    \n",
    "for i,r in df.head(1000).iterrows():\n",
    "    CNNcode = np.array(r['CNNcode'])\n",
    "    #CNNcode = duplicate_images(CNNcode)\n",
    "    meanCNN = CNNcode.mean(axis=0)\n",
    "    df.loc[i, 'meanCNN'] = meanCNN"
   ]
  },
  {
   "cell_type": "code",
   "execution_count": 20,
   "metadata": {
    "collapsed": false
   },
   "outputs": [
    {
     "name": "stdout",
     "output_type": "stream",
     "text": [
      "Wall time: 9min 8s\n"
     ]
    }
   ],
   "source": [
    "%%time\n",
    "df[\"meanCNN\"] = \"\"\n",
    "    \n",
    "for i,r in df.iterrows():\n",
    "    CNNcode = np.array(r['CNNcode'])\n",
    "    #CNNcode = duplicate_images(CNNcodes)\n",
    "    meanCNN = CNNcode.mean(axis=0)\n",
    "    df.loc[i, 'meanCNN'] = meanCNN\n",
    "        \n",
    "df.drop('CNNcode', axis=1, inplace = True)"
   ]
  },
  {
   "cell_type": "code",
   "execution_count": 21,
   "metadata": {
    "collapsed": false
   },
   "outputs": [
    {
     "data": {
      "text/html": [
       "<div style=\"max-height:1000px;max-width:1500px;overflow:auto;\">\n",
       "<table border=\"1\" class=\"dataframe\">\n",
       "  <thead>\n",
       "    <tr style=\"text-align: right;\">\n",
       "      <th></th>\n",
       "      <th>meanCNN</th>\n",
       "    </tr>\n",
       "    <tr>\n",
       "      <th>business_id</th>\n",
       "      <th></th>\n",
       "    </tr>\n",
       "  </thead>\n",
       "  <tbody>\n",
       "    <tr>\n",
       "      <th>003sg</th>\n",
       "      <td> [0.650372, 1.15609, 0.517486, 0.642933, 0.4061...</td>\n",
       "    </tr>\n",
       "    <tr>\n",
       "      <th>00er5</th>\n",
       "      <td> [0.51327, 0.593613, 0.443991, 0.376009, 0.3182...</td>\n",
       "    </tr>\n",
       "    <tr>\n",
       "      <th>00kad</th>\n",
       "      <td> [0.725106, 0.720378, 0.887807, 0.874223, 0.303...</td>\n",
       "    </tr>\n",
       "    <tr>\n",
       "      <th>00mc6</th>\n",
       "      <td> [0.52072, 1.3611, 0.954392, 0.875562, 0.728178...</td>\n",
       "    </tr>\n",
       "    <tr>\n",
       "      <th>00q7x</th>\n",
       "      <td> [0.154035, 0.926991, 0.896294, 0.403459, 0.0, ...</td>\n",
       "    </tr>\n",
       "  </tbody>\n",
       "</table>\n",
       "</div>"
      ],
      "text/plain": [
       "                                                       meanCNN\n",
       "business_id                                                   \n",
       "003sg        [0.650372, 1.15609, 0.517486, 0.642933, 0.4061...\n",
       "00er5        [0.51327, 0.593613, 0.443991, 0.376009, 0.3182...\n",
       "00kad        [0.725106, 0.720378, 0.887807, 0.874223, 0.303...\n",
       "00mc6        [0.52072, 1.3611, 0.954392, 0.875562, 0.728178...\n",
       "00q7x        [0.154035, 0.926991, 0.896294, 0.403459, 0.0, ..."
      ]
     },
     "execution_count": 21,
     "metadata": {},
     "output_type": "execute_result"
    }
   ],
   "source": [
    "df.head(5)"
   ]
  },
  {
   "cell_type": "code",
   "execution_count": null,
   "metadata": {
    "collapsed": false
   },
   "outputs": [],
   "source": [
    "name = 'df_test_'+layer_name\n",
    "df.to_pickle(name)"
   ]
  },
  {
   "cell_type": "code",
   "execution_count": null,
   "metadata": {
    "collapsed": true
   },
   "outputs": [],
   "source": []
  }
 ],
 "metadata": {
  "kernelspec": {
   "display_name": "Python 2",
   "language": "python",
   "name": "python2"
  },
  "language_info": {
   "codemirror_mode": {
    "name": "ipython",
    "version": 2
   },
   "file_extension": ".py",
   "mimetype": "text/x-python",
   "name": "python",
   "nbconvert_exporter": "python",
   "pygments_lexer": "ipython2",
   "version": "2.7.8"
  }
 },
 "nbformat": 4,
 "nbformat_minor": 0
}
