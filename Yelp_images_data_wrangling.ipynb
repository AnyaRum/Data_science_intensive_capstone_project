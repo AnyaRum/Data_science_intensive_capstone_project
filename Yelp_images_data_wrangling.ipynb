{
 "cells": [
  {
   "cell_type": "code",
   "execution_count": 1,
   "metadata": {
    "collapsed": true
   },
   "outputs": [],
   "source": [
    "import os\n",
    "import numpy as np\n",
    "import pandas as pd\n",
    "import scipy.io as sio\n",
    "import matplotlib.pyplot as plt\n",
    "import time\n",
    "%matplotlib inline\n",
    "from numba import jit, autojit"
   ]
  },
  {
   "cell_type": "markdown",
   "metadata": {},
   "source": [
    "<h1> Loading data"
   ]
  },
  {
   "cell_type": "code",
   "execution_count": 2,
   "metadata": {
    "collapsed": true
   },
   "outputs": [],
   "source": [
    "pathhome = os.getcwd()\n",
    "pathcnn = pathhome+'\\\\outcome\\\\imagenet_vgg_f\\\\fc7'"
   ]
  },
  {
   "cell_type": "markdown",
   "metadata": {},
   "source": [
    "<h2> Loading csv files with photo ids/business ids and sample submussion "
   ]
  },
  {
   "cell_type": "code",
   "execution_count": 3,
   "metadata": {
    "collapsed": false
   },
   "outputs": [],
   "source": [
    "# Business ids and restraunt labels train data set\n",
    "df_train_business_ids = pd.read_csv('train.csv')\n",
    "# Business ids and photo ids train data set\n",
    "df_train_photo_ids = pd.read_csv('train_photo_to_biz_ids.csv')\n",
    "# Business ids and photo ids test data set\n",
    "df_test_photo_ids = pd.read_csv('test_photo_to_biz.csv')\n",
    "# Sample submission\n",
    "df_sample_submission = pd.read_csv('sample_submission.csv')"
   ]
  },
  {
   "cell_type": "markdown",
   "metadata": {},
   "source": [
    "<h2> Loading CNNcodes from images"
   ]
  },
  {
   "cell_type": "code",
   "execution_count": 4,
   "metadata": {
    "collapsed": true
   },
   "outputs": [],
   "source": [
    "\n",
    "def getCNNcodes(matfile,dtype):\n",
    "    data = sio.loadmat(pathcnn+'\\\\'+dtype+'\\\\'+matfile)\n",
    "    CNNcodes = []\n",
    "    photoids = []\n",
    "    for d in data['data']:\n",
    "        photoid = (d[0][0][0][0][0][:-4])\n",
    "        photoids.append(photoid)\n",
    "        CNNcode = np.array(d[0][0][0][1].flatten())\n",
    "        CNNcodes.append(CNNcode)\n",
    "    del data\n",
    "    return photoids, CNNcodes"
   ]
  },
  {
   "cell_type": "code",
   "execution_count": 5,
   "metadata": {
    "collapsed": true
   },
   "outputs": [],
   "source": [
    "def duplicate_image_ids(CNNcodes):    \n",
    "    seen = set()\n",
    "    dubs = []\n",
    "    for c in CNNcodes:\n",
    "        cstr = ''.join(map(str, c))\n",
    "        if cstr not in seen:\n",
    "            seen.add(cstr)\n",
    "        else:\n",
    "            dubs.append(cstr)\n",
    "        del cstr\n",
    "    CNNcodes_nodubs = [c for c in CNNcodes if ''.join(map(str, c)) not in dubs]\n",
    "    return CNNcodes_nodubs            "
   ]
  },
  {
   "cell_type": "code",
   "execution_count": 67,
   "metadata": {
    "collapsed": false
   },
   "outputs": [],
   "source": [
    "@autojit\n",
    "def parse_business(CNNcodes):\n",
    "    #CNNcodes = duplicate_image_ids(CNNcodes)\n",
    "    CNNcodes = np.array(r)\n",
    "    meanCNNcode = CNNcodes.mean(axis=0)\n",
    "    return meanCNNcode"
   ]
  },
  {
   "cell_type": "markdown",
   "metadata": {},
   "source": [
    "<h3> Train data"
   ]
  },
  {
   "cell_type": "code",
   "execution_count": 7,
   "metadata": {
    "collapsed": false
   },
   "outputs": [
    {
     "name": "stderr",
     "output_type": "stream",
     "text": [
      "C:\\Users\\asr1g12\\Anaconda3\\envs\\py27\\lib\\site-packages\\ipykernel\\__main__.py:8: FutureWarning: convert_objects is deprecated.  Use the data-type specific converters pd.to_datetime, pd.to_timedelta and pd.to_numeric.\n"
     ]
    }
   ],
   "source": [
    "df_CNNcodes_train =pd.DataFrame({'photo_id': [],'CNNcode': []})\n",
    "\n",
    "# Extracting CNNcodes and photoids for train images\n",
    "for f in os.listdir(pathcnn+\"\\\\train\"):\n",
    "    photoids, CNNcodes = getCNNcodes(f,'train')\n",
    "    df = pd.DataFrame({'photo_id': photoids,'CNNcode': CNNcodes})\n",
    "    df_CNNcodes_train =pd.concat([df_CNNcodes_train, df])\n",
    "df_CNNcodes_train['photo_id']= df_CNNcodes_train['photo_id'].convert_objects(convert_numeric=True)"
   ]
  },
  {
   "cell_type": "code",
   "execution_count": 8,
   "metadata": {
    "collapsed": false
   },
   "outputs": [
    {
     "name": "stderr",
     "output_type": "stream",
     "text": [
      "C:\\Users\\asr1g12\\Anaconda3\\envs\\py27\\lib\\site-packages\\ipykernel\\__main__.py:1: FutureWarning: sort(columns=....) is deprecated, use sort_values(by=.....)\n",
      "  if __name__ == '__main__':\n"
     ]
    },
    {
     "data": {
      "text/html": [
       "<div>\n",
       "<table border=\"1\" class=\"dataframe\">\n",
       "  <thead>\n",
       "    <tr style=\"text-align: right;\">\n",
       "      <th></th>\n",
       "      <th>CNNcode</th>\n",
       "      <th>photo_id</th>\n",
       "    </tr>\n",
       "  </thead>\n",
       "  <tbody>\n",
       "    <tr>\n",
       "      <th>163</th>\n",
       "      <td>[0.0, 0.0, 0.0, 0.0, 0.0, 0.0, 0.0, 0.0, 0.0, ...</td>\n",
       "      <td>2</td>\n",
       "    </tr>\n",
       "    <tr>\n",
       "      <th>227</th>\n",
       "      <td>[0.677176, 7.32974, 5.29063, 0.0, 0.0, 10.1959...</td>\n",
       "      <td>5</td>\n",
       "    </tr>\n",
       "    <tr>\n",
       "      <th>28</th>\n",
       "      <td>[0.0, 0.0, 8.95383, 0.0, 0.0, 0.0, 0.0, 8.0476...</td>\n",
       "      <td>8</td>\n",
       "    </tr>\n",
       "    <tr>\n",
       "      <th>0</th>\n",
       "      <td>[0.0, 0.0, 0.0, 0.0, 0.0, 0.0, 0.0, 0.0, 0.0, ...</td>\n",
       "      <td>10</td>\n",
       "    </tr>\n",
       "    <tr>\n",
       "      <th>148</th>\n",
       "      <td>[0.0, 0.0, 0.0, 0.0, 0.0, 0.0, 0.0, 0.0, 0.0, ...</td>\n",
       "      <td>12</td>\n",
       "    </tr>\n",
       "  </tbody>\n",
       "</table>\n",
       "</div>"
      ],
      "text/plain": [
       "                                               CNNcode  photo_id\n",
       "163  [0.0, 0.0, 0.0, 0.0, 0.0, 0.0, 0.0, 0.0, 0.0, ...         2\n",
       "227  [0.677176, 7.32974, 5.29063, 0.0, 0.0, 10.1959...         5\n",
       "28   [0.0, 0.0, 8.95383, 0.0, 0.0, 0.0, 0.0, 8.0476...         8\n",
       "0    [0.0, 0.0, 0.0, 0.0, 0.0, 0.0, 0.0, 0.0, 0.0, ...        10\n",
       "148  [0.0, 0.0, 0.0, 0.0, 0.0, 0.0, 0.0, 0.0, 0.0, ...        12"
      ]
     },
     "execution_count": 8,
     "metadata": {},
     "output_type": "execute_result"
    }
   ],
   "source": [
    "df_CNNcodes_train.sort(['photo_id'], ascending=1).head(5)"
   ]
  },
  {
   "cell_type": "markdown",
   "metadata": {},
   "source": [
    "<h3> Test data"
   ]
  },
  {
   "cell_type": "code",
   "execution_count": null,
   "metadata": {
    "collapsed": false
   },
   "outputs": [],
   "source": [
    "df_CNNcodes_test =pd.DataFrame({'photo_id': [],'CNNcode': []})\n",
    "\n",
    "# Extracting CNNcodes and photoids for test images\n",
    "for f in os.listdir(pathcnn+\"\\\\test\"):\n",
    "    photoids, CNNcodes = getCNNcodes(f, 'test')\n",
    "    df = pd.DataFrame({'photo_id': photoids,'CNNcode': CNNcodes})\n",
    "    df_CNNcodes_test =pd.concat([df_CNNcodes_test, df])\n",
    "\n",
    "df_CNNcodes_test['photo_id']= df_CNNcodes_test['photo_id'].convert_objects(convert_numeric=True)"
   ]
  },
  {
   "cell_type": "code",
   "execution_count": null,
   "metadata": {
    "collapsed": false
   },
   "outputs": [],
   "source": [
    "df_CNNcodes_test.sort(['photo_id'], ascending=1).head(5)"
   ]
  },
  {
   "cell_type": "markdown",
   "metadata": {},
   "source": [
    "<h1> Evaluating mean CNN code for each business"
   ]
  },
  {
   "cell_type": "code",
   "execution_count": 9,
   "metadata": {
    "collapsed": false
   },
   "outputs": [
    {
     "name": "stderr",
     "output_type": "stream",
     "text": [
      "C:\\Users\\asr1g12\\Anaconda3\\envs\\py27\\lib\\site-packages\\ipykernel\\__main__.py:2: FutureWarning: sort(columns=....) is deprecated, use sort_values(by=.....)\n",
      "  from ipykernel import kernelapp as app\n"
     ]
    },
    {
     "data": {
      "text/html": [
       "<div>\n",
       "<table border=\"1\" class=\"dataframe\">\n",
       "  <thead>\n",
       "    <tr style=\"text-align: right;\">\n",
       "      <th></th>\n",
       "      <th>photo_id</th>\n",
       "      <th>business_id</th>\n",
       "      <th>CNNcode</th>\n",
       "    </tr>\n",
       "  </thead>\n",
       "  <tbody>\n",
       "    <tr>\n",
       "      <th>175383</th>\n",
       "      <td>338241</td>\n",
       "      <td>3</td>\n",
       "      <td>[4.40568, 0.0, 0.0, 0.0, 0.0, 0.0, 0.0, 14.551...</td>\n",
       "    </tr>\n",
       "    <tr>\n",
       "      <th>155513</th>\n",
       "      <td>435438</td>\n",
       "      <td>3</td>\n",
       "      <td>[0.0, 0.0, 0.0, 0.0, 0.0, 0.0, 0.0, 0.0, 0.0, ...</td>\n",
       "    </tr>\n",
       "    <tr>\n",
       "      <th>27021</th>\n",
       "      <td>414322</td>\n",
       "      <td>3</td>\n",
       "      <td>[0.0, 0.0, 0.0, 0.0, 0.0, 0.0, 0.0, 0.0, 3.903...</td>\n",
       "    </tr>\n",
       "    <tr>\n",
       "      <th>158003</th>\n",
       "      <td>343892</td>\n",
       "      <td>3</td>\n",
       "      <td>[0.0, 0.0, 0.0, 0.0, 0.0, 0.0, 0.0, 16.4443, 0...</td>\n",
       "    </tr>\n",
       "    <tr>\n",
       "      <th>158583</th>\n",
       "      <td>37806</td>\n",
       "      <td>3</td>\n",
       "      <td>[0.0, 0.0, 0.0, 0.0, 0.0, 0.0, 0.0, 0.0, 7.401...</td>\n",
       "    </tr>\n",
       "    <tr>\n",
       "      <th>216870</th>\n",
       "      <td>343176</td>\n",
       "      <td>3</td>\n",
       "      <td>[0.0, 0.0, 0.0, 0.0, 0.0, 5.84614, 0.0, 0.0, 0...</td>\n",
       "    </tr>\n",
       "    <tr>\n",
       "      <th>51291</th>\n",
       "      <td>207105</td>\n",
       "      <td>3</td>\n",
       "      <td>[0.0, 0.0439066, 0.0, 0.0, 0.0, 1.35651, 0.0, ...</td>\n",
       "    </tr>\n",
       "    <tr>\n",
       "      <th>158002</th>\n",
       "      <td>405693</td>\n",
       "      <td>3</td>\n",
       "      <td>[0.0, 4.23323, 0.0, 0.0, 0.0, 0.0, 0.0, 16.591...</td>\n",
       "    </tr>\n",
       "    <tr>\n",
       "      <th>158001</th>\n",
       "      <td>73617</td>\n",
       "      <td>3</td>\n",
       "      <td>[0.0, 7.27466, 0.0, 0.0, 3.54355, 0.0, 0.0, 0....</td>\n",
       "    </tr>\n",
       "    <tr>\n",
       "      <th>158000</th>\n",
       "      <td>440970</td>\n",
       "      <td>3</td>\n",
       "      <td>[0.0, 0.0, 0.0, 0.0, 0.0, 0.255523, 0.0, 0.0, ...</td>\n",
       "    </tr>\n",
       "  </tbody>\n",
       "</table>\n",
       "</div>"
      ],
      "text/plain": [
       "        photo_id  business_id  \\\n",
       "175383    338241            3   \n",
       "155513    435438            3   \n",
       "27021     414322            3   \n",
       "158003    343892            3   \n",
       "158583     37806            3   \n",
       "216870    343176            3   \n",
       "51291     207105            3   \n",
       "158002    405693            3   \n",
       "158001     73617            3   \n",
       "158000    440970            3   \n",
       "\n",
       "                                                  CNNcode  \n",
       "175383  [4.40568, 0.0, 0.0, 0.0, 0.0, 0.0, 0.0, 14.551...  \n",
       "155513  [0.0, 0.0, 0.0, 0.0, 0.0, 0.0, 0.0, 0.0, 0.0, ...  \n",
       "27021   [0.0, 0.0, 0.0, 0.0, 0.0, 0.0, 0.0, 0.0, 3.903...  \n",
       "158003  [0.0, 0.0, 0.0, 0.0, 0.0, 0.0, 0.0, 16.4443, 0...  \n",
       "158583  [0.0, 0.0, 0.0, 0.0, 0.0, 0.0, 0.0, 0.0, 7.401...  \n",
       "216870  [0.0, 0.0, 0.0, 0.0, 0.0, 5.84614, 0.0, 0.0, 0...  \n",
       "51291   [0.0, 0.0439066, 0.0, 0.0, 0.0, 1.35651, 0.0, ...  \n",
       "158002  [0.0, 4.23323, 0.0, 0.0, 0.0, 0.0, 0.0, 16.591...  \n",
       "158001  [0.0, 7.27466, 0.0, 0.0, 3.54355, 0.0, 0.0, 0....  \n",
       "158000  [0.0, 0.0, 0.0, 0.0, 0.0, 0.255523, 0.0, 0.0, ...  "
      ]
     },
     "execution_count": 9,
     "metadata": {},
     "output_type": "execute_result"
    }
   ],
   "source": [
    "df_train_photo_biz_codes = pd.merge(df_train_photo_ids, df_CNNcodes_train, on='photo_id')\n",
    "df_train_photo_biz_codes = df_train_photo_biz_codes.sort('business_id', ascending = True)\n",
    "del df_CNNcodes_train\n",
    "df_train_photo_biz_codes.head(10)"
   ]
  },
  {
   "cell_type": "code",
   "execution_count": 59,
   "metadata": {
    "collapsed": true
   },
   "outputs": [],
   "source": [
    "grouped = df_train_photo_biz_codes.groupby('business_id')\n",
    "df = grouped.aggregate(lambda x: list(x))\n",
    "df.drop('photo_id', axis=1, inplace=True)"
   ]
  },
  {
   "cell_type": "code",
   "execution_count": 34,
   "metadata": {
    "collapsed": true
   },
   "outputs": [],
   "source": [
    "df[\"meanCNN\"] = \"\""
   ]
  },
  {
   "cell_type": "code",
   "execution_count": 52,
   "metadata": {
    "collapsed": false
   },
   "outputs": [
    {
     "name": "stdout",
     "output_type": "stream",
     "text": [
      "Wall time: 88 ms\n"
     ]
    }
   ],
   "source": [
    "%%time\n",
    "meanCNN = []\n",
    "for i,r in df.head(10).iterrows():\n",
    "    meanCNN = parse_business(r['CNNcode'])\n",
    "    df.loc[i, 'meanCNN'] = meanCNN"
   ]
  },
  {
   "cell_type": "code",
   "execution_count": 37,
   "metadata": {
    "collapsed": false
   },
   "outputs": [
    {
     "name": "stdout",
     "output_type": "stream",
     "text": [
      "Wall time: 894 ms\n"
     ]
    }
   ],
   "source": [
    "%%time\n",
    "meanCNN = []\n",
    "for i,r in df.head(500).iterrows():\n",
    "    meanCNN = parse_business(r['CNNcode'])\n",
    "    df.loc[i, 'meanCNN'] = meanCNN"
   ]
  },
  {
   "cell_type": "code",
   "execution_count": 38,
   "metadata": {
    "collapsed": false
   },
   "outputs": [
    {
     "name": "stdout",
     "output_type": "stream",
     "text": [
      "Wall time: 1.09 s\n"
     ]
    }
   ],
   "source": [
    "%%time\n",
    "meanCNN = []\n",
    "for i,r in df.head(600).iterrows():\n",
    "    meanCNN = parse_business(r['CNNcode'])\n",
    "    df.loc[i, 'meanCNN'] = meanCNN"
   ]
  },
  {
   "cell_type": "code",
   "execution_count": 39,
   "metadata": {
    "collapsed": false
   },
   "outputs": [
    {
     "name": "stdout",
     "output_type": "stream",
     "text": [
      "Wall time: 1.3 s\n"
     ]
    }
   ],
   "source": [
    "%%time\n",
    "meanCNN = []\n",
    "for i,r in df.head(700).iterrows():\n",
    "    meanCNN = parse_business(r['CNNcode'])\n",
    "    df.loc[i, 'meanCNN'] = meanCNN"
   ]
  },
  {
   "cell_type": "code",
   "execution_count": 45,
   "metadata": {
    "collapsed": true
   },
   "outputs": [],
   "source": [
    "df[\"meanCNN\"] = \"\"\n",
    "df_array = np.array_split(df, 4)"
   ]
  },
  {
   "cell_type": "code",
   "execution_count": 46,
   "metadata": {
    "collapsed": false
   },
   "outputs": [
    {
     "name": "stdout",
     "output_type": "stream",
     "text": [
      "Wall time: 2min 18s\n"
     ]
    }
   ],
   "source": [
    "%%time\n",
    "meanCNN = []\n",
    "for i,r in df_array[0].iterrows():\n",
    "    meanCNN = parse_business(r['CNNcode'])\n",
    "    df_array[0].loc[i, 'meanCNN'] = meanCNN"
   ]
  },
  {
   "cell_type": "code",
   "execution_count": 48,
   "metadata": {
    "collapsed": false
   },
   "outputs": [
    {
     "name": "stdout",
     "output_type": "stream",
     "text": [
      "Wall time: 3min 7s\n"
     ]
    }
   ],
   "source": [
    "%%time\n",
    "meanCNN = []\n",
    "for i,r in df_array[1].iterrows():\n",
    "    meanCNN = parse_business(r['CNNcode'])\n",
    "    df_array[1].loc[i, 'meanCNN'] = meanCNN"
   ]
  },
  {
   "cell_type": "code",
   "execution_count": 49,
   "metadata": {
    "collapsed": false
   },
   "outputs": [
    {
     "name": "stdout",
     "output_type": "stream",
     "text": [
      "Wall time: 14min 7s\n"
     ]
    }
   ],
   "source": [
    "%%time\n",
    "meanCNN = []\n",
    "for i,r in df_array[2].iterrows():\n",
    "    meanCNN = parse_business(r['CNNcode'])\n",
    "    df_array[2].loc[i, 'meanCNN'] = meanCNN"
   ]
  },
  {
   "cell_type": "code",
   "execution_count": 68,
   "metadata": {
    "collapsed": false
   },
   "outputs": [
    {
     "ename": "TypeError",
     "evalue": "('can only concatenate list (not \"str\") to list', u'occurred at index 3')",
     "output_type": "error",
     "traceback": [
      "\u001b[1;31m---------------------------------------------------------------------------\u001b[0m",
      "\u001b[1;31mTypeError\u001b[0m                                 Traceback (most recent call last)",
      "\u001b[1;32m<ipython-input-68-e14eb340502e>\u001b[0m in \u001b[0;36m<module>\u001b[1;34m()\u001b[0m\n\u001b[1;32m----> 1\u001b[1;33m \u001b[0mdf\u001b[0m\u001b[1;33m.\u001b[0m\u001b[0mhead\u001b[0m\u001b[1;33m(\u001b[0m\u001b[1;36m10\u001b[0m\u001b[1;33m)\u001b[0m\u001b[1;33m.\u001b[0m\u001b[0mapply\u001b[0m\u001b[1;33m(\u001b[0m\u001b[0mparse_business\u001b[0m\u001b[1;33m,\u001b[0m \u001b[0maxis\u001b[0m \u001b[1;33m=\u001b[0m\u001b[1;36m1\u001b[0m\u001b[1;33m)\u001b[0m\u001b[1;33m\u001b[0m\u001b[0m\n\u001b[0m",
      "\u001b[1;32mC:\\Users\\asr1g12\\Anaconda3\\envs\\py27\\lib\\site-packages\\pandas\\core\\frame.pyc\u001b[0m in \u001b[0;36mapply\u001b[1;34m(self, func, axis, broadcast, raw, reduce, args, **kwds)\u001b[0m\n\u001b[0;32m   3970\u001b[0m                     \u001b[1;32mif\u001b[0m \u001b[0mreduce\u001b[0m \u001b[1;32mis\u001b[0m \u001b[0mNone\u001b[0m\u001b[1;33m:\u001b[0m\u001b[1;33m\u001b[0m\u001b[0m\n\u001b[0;32m   3971\u001b[0m                         \u001b[0mreduce\u001b[0m \u001b[1;33m=\u001b[0m \u001b[0mTrue\u001b[0m\u001b[1;33m\u001b[0m\u001b[0m\n\u001b[1;32m-> 3972\u001b[1;33m                     \u001b[1;32mreturn\u001b[0m \u001b[0mself\u001b[0m\u001b[1;33m.\u001b[0m\u001b[0m_apply_standard\u001b[0m\u001b[1;33m(\u001b[0m\u001b[0mf\u001b[0m\u001b[1;33m,\u001b[0m \u001b[0maxis\u001b[0m\u001b[1;33m,\u001b[0m \u001b[0mreduce\u001b[0m\u001b[1;33m=\u001b[0m\u001b[0mreduce\u001b[0m\u001b[1;33m)\u001b[0m\u001b[1;33m\u001b[0m\u001b[0m\n\u001b[0m\u001b[0;32m   3973\u001b[0m             \u001b[1;32melse\u001b[0m\u001b[1;33m:\u001b[0m\u001b[1;33m\u001b[0m\u001b[0m\n\u001b[0;32m   3974\u001b[0m                 \u001b[1;32mreturn\u001b[0m \u001b[0mself\u001b[0m\u001b[1;33m.\u001b[0m\u001b[0m_apply_broadcast\u001b[0m\u001b[1;33m(\u001b[0m\u001b[0mf\u001b[0m\u001b[1;33m,\u001b[0m \u001b[0maxis\u001b[0m\u001b[1;33m)\u001b[0m\u001b[1;33m\u001b[0m\u001b[0m\n",
      "\u001b[1;32mC:\\Users\\asr1g12\\Anaconda3\\envs\\py27\\lib\\site-packages\\pandas\\core\\frame.pyc\u001b[0m in \u001b[0;36m_apply_standard\u001b[1;34m(self, func, axis, ignore_failures, reduce)\u001b[0m\n\u001b[0;32m   4062\u001b[0m             \u001b[1;32mtry\u001b[0m\u001b[1;33m:\u001b[0m\u001b[1;33m\u001b[0m\u001b[0m\n\u001b[0;32m   4063\u001b[0m                 \u001b[1;32mfor\u001b[0m \u001b[0mi\u001b[0m\u001b[1;33m,\u001b[0m \u001b[0mv\u001b[0m \u001b[1;32min\u001b[0m \u001b[0menumerate\u001b[0m\u001b[1;33m(\u001b[0m\u001b[0mseries_gen\u001b[0m\u001b[1;33m)\u001b[0m\u001b[1;33m:\u001b[0m\u001b[1;33m\u001b[0m\u001b[0m\n\u001b[1;32m-> 4064\u001b[1;33m                     \u001b[0mresults\u001b[0m\u001b[1;33m[\u001b[0m\u001b[0mi\u001b[0m\u001b[1;33m]\u001b[0m \u001b[1;33m=\u001b[0m \u001b[0mfunc\u001b[0m\u001b[1;33m(\u001b[0m\u001b[0mv\u001b[0m\u001b[1;33m)\u001b[0m\u001b[1;33m\u001b[0m\u001b[0m\n\u001b[0m\u001b[0;32m   4065\u001b[0m                     \u001b[0mkeys\u001b[0m\u001b[1;33m.\u001b[0m\u001b[0mappend\u001b[0m\u001b[1;33m(\u001b[0m\u001b[0mv\u001b[0m\u001b[1;33m.\u001b[0m\u001b[0mname\u001b[0m\u001b[1;33m)\u001b[0m\u001b[1;33m\u001b[0m\u001b[0m\n\u001b[0;32m   4066\u001b[0m             \u001b[1;32mexcept\u001b[0m \u001b[0mException\u001b[0m \u001b[1;32mas\u001b[0m \u001b[0me\u001b[0m\u001b[1;33m:\u001b[0m\u001b[1;33m\u001b[0m\u001b[0m\n",
      "\u001b[1;32mC:\\Users\\asr1g12\\Anaconda3\\envs\\py27\\lib\\site-packages\\numpy\\core\\_methods.pyc\u001b[0m in \u001b[0;36m_mean\u001b[1;34m(a, axis, dtype, out, keepdims)\u001b[0m\n\u001b[0;32m     63\u001b[0m         \u001b[0mdtype\u001b[0m \u001b[1;33m=\u001b[0m \u001b[0mmu\u001b[0m\u001b[1;33m.\u001b[0m\u001b[0mdtype\u001b[0m\u001b[1;33m(\u001b[0m\u001b[1;34m'f8'\u001b[0m\u001b[1;33m)\u001b[0m\u001b[1;33m\u001b[0m\u001b[0m\n\u001b[0;32m     64\u001b[0m \u001b[1;33m\u001b[0m\u001b[0m\n\u001b[1;32m---> 65\u001b[1;33m     \u001b[0mret\u001b[0m \u001b[1;33m=\u001b[0m \u001b[0mumr_sum\u001b[0m\u001b[1;33m(\u001b[0m\u001b[0marr\u001b[0m\u001b[1;33m,\u001b[0m \u001b[0maxis\u001b[0m\u001b[1;33m,\u001b[0m \u001b[0mdtype\u001b[0m\u001b[1;33m,\u001b[0m \u001b[0mout\u001b[0m\u001b[1;33m,\u001b[0m \u001b[0mkeepdims\u001b[0m\u001b[1;33m)\u001b[0m\u001b[1;33m\u001b[0m\u001b[0m\n\u001b[0m\u001b[0;32m     66\u001b[0m     \u001b[1;32mif\u001b[0m \u001b[0misinstance\u001b[0m\u001b[1;33m(\u001b[0m\u001b[0mret\u001b[0m\u001b[1;33m,\u001b[0m \u001b[0mmu\u001b[0m\u001b[1;33m.\u001b[0m\u001b[0mndarray\u001b[0m\u001b[1;33m)\u001b[0m\u001b[1;33m:\u001b[0m\u001b[1;33m\u001b[0m\u001b[0m\n\u001b[0;32m     67\u001b[0m         ret = um.true_divide(\n",
      "\u001b[1;31mTypeError\u001b[0m: ('can only concatenate list (not \"str\") to list', u'occurred at index 3')"
     ]
    }
   ],
   "source": [
    "df.head(10).apply(parse_business, axis =1)"
   ]
  },
  {
   "cell_type": "code",
   "execution_count": null,
   "metadata": {
    "collapsed": true
   },
   "outputs": [],
   "source": []
  }
 ],
 "metadata": {
  "kernelspec": {
   "display_name": "Python 2",
   "language": "python",
   "name": "python2"
  },
  "language_info": {
   "codemirror_mode": {
    "name": "ipython",
    "version": 2
   },
   "file_extension": ".py",
   "mimetype": "text/x-python",
   "name": "python",
   "nbconvert_exporter": "python",
   "pygments_lexer": "ipython2",
   "version": "2.7.11"
  }
 },
 "nbformat": 4,
 "nbformat_minor": 0
}
