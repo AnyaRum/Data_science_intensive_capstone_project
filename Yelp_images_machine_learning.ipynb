{
 "cells": [
  {
   "cell_type": "code",
   "execution_count": 1,
   "metadata": {
    "collapsed": false
   },
   "outputs": [],
   "source": [
    "import pandas as pd\n",
    "import numpy as np\n",
    "import os\n",
    "from sklearn.preprocessing import MultiLabelBinarizer\n",
    "from sklearn.svm import SVC\n",
    "from sklearn.linear_model import LogisticRegression\n",
    "from sklearn.tree import DecisionTreeClassifier\n",
    "from sklearn.multiclass import OneVsRestClassifier\n",
    "from sklearn.neighbors import KNeighborsClassifier\n",
    "from sklearn.ensemble import RandomForestClassifier\n",
    "from sklearn.ensemble import GradientBoostingClassifier\n",
    "from sklearn.naive_bayes import GaussianNB\n",
    "from sklearn.metrics import f1_score\n",
    "\n",
    "from sklearn import cross_validation\n",
    "from sklearn.decomposition import PCA\n",
    "from sklearn.grid_search import GridSearchCV\n",
    "\n",
    "%matplotlib inline\n",
    "\n",
    "import matplotlib\n",
    "import matplotlib.pyplot as plt\n",
    "\n",
    "import warnings\n",
    "warnings.filterwarnings('ignore')"
   ]
  },
  {
   "cell_type": "markdown",
   "metadata": {},
   "source": [
    "<h1> Loading a data frame with business ids and restrant labels"
   ]
  },
  {
   "cell_type": "code",
   "execution_count": 2,
   "metadata": {
    "collapsed": false
   },
   "outputs": [
    {
     "data": {
      "text/html": [
       "<div>\n",
       "<table border=\"1\" class=\"dataframe\">\n",
       "  <thead>\n",
       "    <tr style=\"text-align: right;\">\n",
       "      <th></th>\n",
       "      <th>business_id</th>\n",
       "      <th>labels</th>\n",
       "    </tr>\n",
       "  </thead>\n",
       "  <tbody>\n",
       "    <tr>\n",
       "      <th>0</th>\n",
       "      <td>1000</td>\n",
       "      <td>1 2 3 4 5 6 7</td>\n",
       "    </tr>\n",
       "    <tr>\n",
       "      <th>1</th>\n",
       "      <td>1001</td>\n",
       "      <td>0 1 6 8</td>\n",
       "    </tr>\n",
       "    <tr>\n",
       "      <th>2</th>\n",
       "      <td>100</td>\n",
       "      <td>1 2 4 5 6 7</td>\n",
       "    </tr>\n",
       "    <tr>\n",
       "      <th>3</th>\n",
       "      <td>1006</td>\n",
       "      <td>1 2 4 5 6</td>\n",
       "    </tr>\n",
       "    <tr>\n",
       "      <th>4</th>\n",
       "      <td>1010</td>\n",
       "      <td>0 6 8</td>\n",
       "    </tr>\n",
       "  </tbody>\n",
       "</table>\n",
       "</div>"
      ],
      "text/plain": [
       "   business_id         labels\n",
       "0         1000  1 2 3 4 5 6 7\n",
       "1         1001        0 1 6 8\n",
       "2          100    1 2 4 5 6 7\n",
       "3         1006      1 2 4 5 6\n",
       "4         1010          0 6 8"
      ]
     },
     "execution_count": 2,
     "metadata": {},
     "output_type": "execute_result"
    }
   ],
   "source": [
    "df_train_labels = pd.DataFrame.from_csv('train.csv')\n",
    "df_train_labels.reset_index(level=0, inplace=True)\n",
    "df_train_labels.head(5)"
   ]
  },
  {
   "cell_type": "code",
   "execution_count": 3,
   "metadata": {
    "collapsed": false
   },
   "outputs": [],
   "source": [
    "df_common_labels = df_train_labels.groupby('labels').count().sort('business_id', ascending = False).head(10)"
   ]
  },
  {
   "cell_type": "code",
   "execution_count": 4,
   "metadata": {
    "collapsed": false
   },
   "outputs": [
    {
     "data": {
      "text/plain": [
       "<matplotlib.text.Text at 0x1a534a90>"
      ]
     },
     "execution_count": 4,
     "metadata": {},
     "output_type": "execute_result"
    },
    {
     "data": {
      "image/png": "[encoded data removed]",
      "text/plain": [
       "<matplotlib.figure.Figure at 0x1a295f28>"
      ]
     },
     "metadata": {},
     "output_type": "display_data"
    }
   ],
   "source": [
    "font = {'family' : 'normal',\n",
    "        'weight' : 'normal',\n",
    "        'size'   : 14}\n",
    "\n",
    "matplotlib.rc('font', **font)\n",
    "plt.bar(range(len(df_common_labels)), np.array(df_common_labels.business_id), align='center', color = 'black')\n",
    "plt.xticks(range(len(df_common_labels)), np.array(df_common_labels.index))\n",
    "locs, labels = plt.xticks()\n",
    "plt.setp(labels, rotation=90)\n",
    "plt.ylabel('Number of instances', fontweight = 'bold')\n",
    "plt.xlabel('Labels sets', fontweight = 'bold')\n"
   ]
  },
  {
   "cell_type": "markdown",
   "metadata": {},
   "source": [
    "<h1> Loading mean CNN codes"
   ]
  },
  {
   "cell_type": "markdown",
   "metadata": {},
   "source": [
    "<h2> Features used in classifying"
   ]
  },
  {
   "cell_type": "code",
   "execution_count": 5,
   "metadata": {
    "collapsed": true
   },
   "outputs": [],
   "source": [
    "def df_train_for_classifier(layer, df_train_labels):\n",
    "    name_df = 'df_train_'+layer\n",
    "    df = pd.read_pickle(name_df)\n",
    "    df.reset_index(level=0, inplace=True)\n",
    "    df = pd.merge(df, df_train_labels, on = 'business_id')\n",
    "    df = df.dropna(how = 'any')\n",
    "    df['meanCNN'] = df['meanCNN'].apply(lambda x: list(x))\n",
    "    \n",
    "    data = df['meanCNN']\n",
    "    data = np.array([x for x in data])\n",
    "    \n",
    "    df['labels'] = df['labels'].apply(lambda x: map(float, x.split(' ')))\n",
    "    labels = MultiLabelBinarizer().fit_transform(df['labels'])\n",
    "    \n",
    "    return data, labels, df['labels']"
   ]
  },
  {
   "cell_type": "code",
   "execution_count": 6,
   "metadata": {
    "collapsed": false
   },
   "outputs": [],
   "source": [
    "train_data_fc6, train_labels, train_labels_raw = df_train_for_classifier('fc6', df_train_labels)\n",
    "train_data_fc7, _, _ = df_train_for_classifier('fc7', df_train_labels)\n",
    "train_data_fc8, _, _ = df_train_for_classifier('fc8', df_train_labels)\n",
    "train_data_prob, _, _ = df_train_for_classifier('prob', df_train_labels)"
   ]
  },
  {
   "cell_type": "code",
   "execution_count": 7,
   "metadata": {
    "collapsed": false
   },
   "outputs": [],
   "source": [
    "features_combinations = [train_data_fc6, train_data_fc7, train_data_fc8, train_data_prob, \n",
    "                         np.hstack((train_data_fc6, train_data_fc7)), np.hstack((train_data_fc7, train_data_fc8)),\n",
    "                        np.hstack((train_data_fc8, train_data_prob)), np.hstack((train_data_fc6, train_data_fc8)),\n",
    "                        np.hstack((train_data_fc6, train_data_prob)), np.hstack((train_data_fc7, train_data_prob)),\n",
    "                        np.hstack((train_data_fc6, train_data_fc7, train_data_fc8)), \n",
    "                        np.hstack((train_data_fc7, train_data_fc8, train_data_prob)),\n",
    "                        np.hstack((train_data_fc6, train_data_fc8, train_data_prob)),\n",
    "                         np.hstack((train_data_fc6, train_data_fc7, train_data_prob)),\n",
    "                        np.hstack((train_data_fc6, train_data_fc7, train_data_fc8, train_data_prob)),]"
   ]
  },
  {
   "cell_type": "code",
   "execution_count": 8,
   "metadata": {
    "collapsed": true
   },
   "outputs": [],
   "source": [
    "features_names = ['fc6', 'fc7', 'fc8', 'prob', 'fc6_fc7', 'fc7_fc8','fc8_prob', 'fc6_fc8',\n",
    "                        'fc6_prob', 'fc7_prob','fc6_fc7_fc8','fc7_fc8_prob','fc6_fc8_prob',\n",
    "                         'fc6_fc7_prob','fc6_fc7_fc8_prob']"
   ]
  },
  {
   "cell_type": "code",
   "execution_count": 9,
   "metadata": {
    "collapsed": false
   },
   "outputs": [],
   "source": [
    "features = dict(zip(features_names, features_combinations))"
   ]
  },
  {
   "cell_type": "markdown",
   "metadata": {},
   "source": [
    "<h1> Training classifiers"
   ]
  },
  {
   "cell_type": "code",
   "execution_count": 185,
   "metadata": {
    "collapsed": true
   },
   "outputs": [],
   "source": [
    "##Cross-validation\n",
    "kf = cross_validation.KFold(n = 1996, n_folds = 5)"
   ]
  },
  {
   "cell_type": "markdown",
   "metadata": {},
   "source": [
    "<h2> Logistic Regression"
   ]
  },
  {
   "cell_type": "markdown",
   "metadata": {},
   "source": [
    "<h3> Testing performance of PCA decomposition on features"
   ]
  },
  {
   "cell_type": "code",
   "execution_count": 186,
   "metadata": {
    "collapsed": true
   },
   "outputs": [],
   "source": [
    "def cv_pca_decomp(clf, data, labels, n_comp_ar):\n",
    "    kf = cross_validation.KFold(n = 1996, n_folds = 5)\n",
    "    meanscores_pca = []\n",
    "    meanscore_def = np.mean(cross_validation.cross_val_score(clf, data, labels, cv = kf, scoring = 'f1'))\n",
    "    \n",
    "    for n in n_comp_ar:\n",
    "        if data.shape[1] > n:\n",
    "            data_reduced = PCA(n_components=n).fit_transform(data)\n",
    "            score = np.mean(cross_validation.cross_val_score(clf, data_reduced, labels, cv = kf, scoring = 'f1'))\n",
    "            meanscores_pca.append(score)\n",
    "        else:\n",
    "            meanscores_pca.append(np.nan)\n",
    "    \n",
    "    return meanscore_def, meanscores_pca"
   ]
  },
  {
   "cell_type": "code",
   "execution_count": 187,
   "metadata": {
    "collapsed": false
   },
   "outputs": [],
   "source": [
    "clf = OneVsRestClassifier(LogisticRegression())"
   ]
  },
  {
   "cell_type": "code",
   "execution_count": 188,
   "metadata": {
    "collapsed": true
   },
   "outputs": [],
   "source": [
    "n_comp_ar = [100, 250, 500, 1000, 2000]"
   ]
  },
  {
   "cell_type": "code",
   "execution_count": 189,
   "metadata": {
    "collapsed": false
   },
   "outputs": [
    {
     "name": "stdout",
     "output_type": "stream",
     "text": [
      "fc6\n",
      "fc7\n",
      "fc8\n",
      "prob\n",
      "fc6_fc7\n",
      "fc7_fc8\n",
      "fc8_prob\n",
      "fc6_fc8\n",
      "fc6_prob\n",
      "fc7_prob\n",
      "fc6_fc7_fc8\n",
      "fc7_fc8_prob\n",
      "fc6_fc8_prob\n",
      "fc6_fc7_prob\n",
      "fc6_fc7_fc8_prob\n"
     ]
    }
   ],
   "source": [
    "cv_score_pca_log_reg = {}\n",
    "for data, name in zip(features_combinations, features_names):\n",
    "    print(name)\n",
    "    clf = OneVsRestClassifier(LogisticRegression())\n",
    "    meanscore_def, meanscores_pca = cv_pca_decomp(clf, data, train_labels, n_comp_ar)\n",
    "    cv_score_pca_log_reg[name] = [meanscore_def, meanscores_pca]"
   ]
  },
  {
   "cell_type": "code",
   "execution_count": 190,
   "metadata": {
    "collapsed": false
   },
   "outputs": [],
   "source": [
    "df_cv_score_pca_log_reg = pd.DataFrame(cv_score_pca_log_reg)"
   ]
  },
  {
   "cell_type": "code",
   "execution_count": 191,
   "metadata": {
    "collapsed": false
   },
   "outputs": [],
   "source": [
    "#df_cv_score_pca_log_reg.to_pickle('df_cv_score_pca_log_reg')"
   ]
  },
  {
   "cell_type": "code",
   "execution_count": 192,
   "metadata": {
    "collapsed": false
   },
   "outputs": [],
   "source": [
    "df_cv_score_pca_log_reg = pd.read_pickle('df_cv_score_pca_log_reg')"
   ]
  },
  {
   "cell_type": "code",
   "execution_count": 193,
   "metadata": {
    "collapsed": false
   },
   "outputs": [],
   "source": [
    "df_cv_score_pca_log_reg = df_cv_score_pca_log_reg.append([df_cv_score_pca_log_reg.loc[1,]]*4)"
   ]
  },
  {
   "cell_type": "code",
   "execution_count": 194,
   "metadata": {
    "collapsed": false
   },
   "outputs": [],
   "source": [
    "df_cv_score_pca_log_reg = df_cv_score_pca_log_reg.set_index([['default','pca100','pca250','pca500','pca1000', 'pca2000']])"
   ]
  },
  {
   "cell_type": "code",
   "execution_count": 195,
   "metadata": {
    "collapsed": false
   },
   "outputs": [],
   "source": [
    "df_cv_score_pca_log_reg.loc['pca100',:] = df_cv_score_pca_log_reg.loc['pca100',:].apply(lambda x: x[0])\n",
    "df_cv_score_pca_log_reg.loc['pca250',:] = df_cv_score_pca_log_reg.loc['pca250',:].apply(lambda x: x[1])\n",
    "df_cv_score_pca_log_reg.loc['pca500',:] = df_cv_score_pca_log_reg.loc['pca500',:].apply(lambda x: x[2])\n",
    "df_cv_score_pca_log_reg.loc['pca1000',:] = df_cv_score_pca_log_reg.loc['pca1000',:].apply(lambda x: x[3])\n",
    "df_cv_score_pca_log_reg.loc['pca2000',:] = df_cv_score_pca_log_reg.loc['pca2000',:].apply(lambda x: x[4])"
   ]
  },
  {
   "cell_type": "code",
   "execution_count": 197,
   "metadata": {
    "collapsed": false
   },
   "outputs": [
    {
     "data": {
      "image/png": "[encoded data removed]",
      "text/plain": [
       "<matplotlib.figure.Figure at 0xe96b5ba8>"
      ]
     },
     "metadata": {},
     "output_type": "display_data"
    }
   ],
   "source": [
    "plt.figure(figsize = (11,8))\n",
    "for c in df_cv_score_pca_log_reg.columns:\n",
    "    plt.plot(np.arange(0, 6), np.array(df_cv_score_pca_log_reg[c]), label = c)\n",
    "    \n",
    "plt.legend(loc = 3, fontsize = 10)\n",
    "plt.xticks(np.arange(0, 6),np.array(df_cv_score_pca_log_reg.index))\n",
    "plt.grid()\n",
    "plt.ylabel('F-score', fontweight = 'bold', fontsize = 14)\n",
    "plt.savefig('test.jpg')"
   ]
  },
  {
   "cell_type": "code",
   "execution_count": 60,
   "metadata": {
    "collapsed": false
   },
   "outputs": [
    {
     "data": {
      "text/plain": [
       "fc6                 pca100\n",
       "fc6_fc7             pca100\n",
       "fc6_fc7_fc8         pca100\n",
       "fc6_fc7_fc8_prob    pca100\n",
       "fc6_fc7_prob        pca100\n",
       "fc6_fc8             pca100\n",
       "fc6_fc8_prob        pca100\n",
       "fc6_prob            pca100\n",
       "fc7                 pca100\n",
       "fc7_fc8             pca100\n",
       "fc7_fc8_prob        pca100\n",
       "fc7_prob            pca100\n",
       "fc8                 pca100\n",
       "fc8_prob            pca100\n",
       "prob                pca100\n",
       "dtype: object"
      ]
     },
     "execution_count": 60,
     "metadata": {},
     "output_type": "execute_result"
    }
   ],
   "source": [
    "df_cv_score_pca_log_reg.idxmax()"
   ]
  },
  {
   "cell_type": "code",
   "execution_count": 72,
   "metadata": {
    "collapsed": false
   },
   "outputs": [
    {
     "name": "stderr",
     "output_type": "stream",
     "text": [
      "C:\\Users\\asr1g12\\Anaconda3\\envs\\py27\\lib\\site-packages\\ipykernel\\__main__.py:1: FutureWarning: sort is deprecated, use sort_values(inplace=True) for for INPLACE sorting\n",
      "  if __name__ == '__main__':\n"
     ]
    },
    {
     "data": {
      "text/plain": [
       "fc7_fc8             0.829107\n",
       "fc7_fc8_prob        0.828999\n",
       "fc7_prob            0.828429\n",
       "fc7                 0.826697\n",
       "fc8                 0.825897\n",
       "fc8_prob            0.823796\n",
       "fc6_fc7_prob        0.823688\n",
       "prob                0.823624\n",
       "fc6_fc7_fc8_prob     0.82358\n",
       "fc6_fc7_fc8         0.823484\n",
       "fc6_fc7             0.823335\n",
       "fc6_fc8_prob        0.822746\n",
       "fc6_prob            0.822533\n",
       "fc6_fc8             0.822197\n",
       "fc6                 0.822139\n",
       "Name: pca100, dtype: object"
      ]
     },
     "execution_count": 72,
     "metadata": {},
     "output_type": "execute_result"
    }
   ],
   "source": [
    "df_cv_score_pca_log_reg.loc['pca100',].sort(ascending=False, inplace=False)"
   ]
  },
  {
   "cell_type": "markdown",
   "metadata": {},
   "source": [
    "-----------------------------------------"
   ]
  },
  {
   "cell_type": "markdown",
   "metadata": {},
   "source": [
    "PCA decomposition to 100 components shows the best result for the Logistic Regression classifier for all combinations of features. The best performing combination of features is outcome from layer fc7 concated with the outcome from layer fc8"
   ]
  },
  {
   "cell_type": "code",
   "execution_count": 8,
   "metadata": {
    "collapsed": true
   },
   "outputs": [],
   "source": [
    "train_data_reduced = PCA(n_components=100).fit_transform(features['fc7_fc8'])"
   ]
  },
  {
   "cell_type": "markdown",
   "metadata": {},
   "source": [
    "<h3> Selecting the best parameters for Logistic regression classifier"
   ]
  },
  {
   "cell_type": "code",
   "execution_count": 162,
   "metadata": {
    "collapsed": true
   },
   "outputs": [],
   "source": [
    "param_grid_log_reg = {\"estimator__C\": [0.001, 0.01, 0.05, 0.1, 0.5, 1, 10,100],\n",
    "                     \"estimator__penalty\": ['l1', 'l2']}"
   ]
  },
  {
   "cell_type": "code",
   "execution_count": 163,
   "metadata": {
    "collapsed": false
   },
   "outputs": [],
   "source": [
    "grid = GridSearchCV(OneVsRestClassifier(LogisticRegression()), param_grid_log_reg, scoring='f1')"
   ]
  },
  {
   "cell_type": "code",
   "execution_count": 164,
   "metadata": {
    "collapsed": false
   },
   "outputs": [],
   "source": [
    "grid = grid.fit(train_data_reduced, train_labels)"
   ]
  },
  {
   "cell_type": "code",
   "execution_count": 165,
   "metadata": {
    "collapsed": false
   },
   "outputs": [
    {
     "data": {
      "text/plain": [
       "{'estimator__C': 0.05, 'estimator__penalty': 'l1'}"
      ]
     },
     "execution_count": 165,
     "metadata": {},
     "output_type": "execute_result"
    }
   ],
   "source": [
    "grid.best_params_"
   ]
  },
  {
   "cell_type": "code",
   "execution_count": 166,
   "metadata": {
    "collapsed": false
   },
   "outputs": [
    {
     "data": {
      "text/plain": [
       "0.82818099937052658"
      ]
     },
     "execution_count": 166,
     "metadata": {},
     "output_type": "execute_result"
    }
   ],
   "source": [
    "grid.best_score_"
   ]
  },
  {
   "cell_type": "markdown",
   "metadata": {
    "collapsed": true
   },
   "source": [
    "<h2> Support vector classifier"
   ]
  },
  {
   "cell_type": "markdown",
   "metadata": {},
   "source": [
    "<h3> Selecting the best parameters for SVC"
   ]
  },
  {
   "cell_type": "markdown",
   "metadata": {},
   "source": [
    "SVC classifier is quite slow, therefore it was only tested on the best set of features evaluted for Logistic Regression"
   ]
  },
  {
   "cell_type": "code",
   "execution_count": 167,
   "metadata": {
    "collapsed": true
   },
   "outputs": [],
   "source": [
    "param_grid_svc = [\n",
    "  {'estimator__C': [0.1, 1, 10, 100], 'estimator__kernel': ['linear']},\n",
    "  {'estimator__C': [0.1, 1, 10, 100], 'estimator__gamma': [0.001, 0.0001], 'estimator__kernel': ['rbf']},\n",
    " ]"
   ]
  },
  {
   "cell_type": "code",
   "execution_count": 169,
   "metadata": {
    "collapsed": false
   },
   "outputs": [],
   "source": [
    "grid_svc = GridSearchCV(OneVsRestClassifier(SVC()), param_grid_svc, scoring='f1')"
   ]
  },
  {
   "cell_type": "code",
   "execution_count": 170,
   "metadata": {
    "collapsed": false
   },
   "outputs": [],
   "source": [
    "grid_svc = grid_svc.fit(train_data_reduced, train_labels)"
   ]
  },
  {
   "cell_type": "code",
   "execution_count": 171,
   "metadata": {
    "collapsed": false
   },
   "outputs": [
    {
     "data": {
      "text/plain": [
       "{'estimator__C': 1, 'estimator__gamma': 0.0001, 'estimator__kernel': 'rbf'}"
      ]
     },
     "execution_count": 171,
     "metadata": {},
     "output_type": "execute_result"
    }
   ],
   "source": [
    "grid_svc.best_params_"
   ]
  },
  {
   "cell_type": "code",
   "execution_count": 172,
   "metadata": {
    "collapsed": false
   },
   "outputs": [
    {
     "data": {
      "text/plain": [
       "0.83254616393949765"
      ]
     },
     "execution_count": 172,
     "metadata": {},
     "output_type": "execute_result"
    }
   ],
   "source": [
    "grid_svc.best_score_"
   ]
  },
  {
   "cell_type": "code",
   "execution_count": 173,
   "metadata": {
    "collapsed": true
   },
   "outputs": [],
   "source": [
    "import pickle\n",
    "\n",
    "f = open('grid_svc_best_params.pckl', 'w')\n",
    "pickle.dump(grid_svc.best_params_, f)\n",
    "f.close()\n",
    "\n",
    "f = open('grid_svc_best_score.pckl', 'w')\n",
    "pickle.dump(grid_svc.best_score_, f)\n",
    "f.close()"
   ]
  },
  {
   "cell_type": "markdown",
   "metadata": {
    "collapsed": true
   },
   "source": [
    "<h2> Decision tree classifier"
   ]
  },
  {
   "cell_type": "code",
   "execution_count": 44,
   "metadata": {
    "collapsed": true
   },
   "outputs": [],
   "source": [
    "def feature_grid_search_decision_tree(train_data, train_labels):\n",
    "    clf_dt = OneVsRestClassifier(DecisionTreeClassifier())\n",
    "    param_grid_dt = {'estimator__min_samples_split': [1,100,500,1000,1500,2000],\n",
    "                  'estimator__max_depth':[2,6,10,100]}\n",
    "    \n",
    "    grid_dt = GridSearchCV(clf_dt, param_grid_dt, cv=5, scoring='f1')\n",
    "    grid_dt = grid_dt.fit(train_data, train_labels)\n",
    "    \n",
    "    return grid_dt.best_params_, grid_dt.best_score_"
   ]
  },
  {
   "cell_type": "code",
   "execution_count": 45,
   "metadata": {
    "collapsed": true
   },
   "outputs": [],
   "source": [
    "columns = ['best_params','best_score']\n",
    "df_dt_gridsearch = pd.DataFrame(index=features_names, columns=columns)\n",
    "df_dt_gridsearch= df_dt_gridsearch.fillna(0) "
   ]
  },
  {
   "cell_type": "code",
   "execution_count": 55,
   "metadata": {
    "collapsed": false
   },
   "outputs": [],
   "source": [
    "for f in features_names:\n",
    "    data_reduced = PCA(n_components=100).fit_transform(features[f])\n",
    "    best_params, best_score = feature_grid_search_decision_tree(data_reduced, train_labels)\n",
    "    df_dt_gridsearch.loc[f,'best_params'] = [best_params]\n",
    "    df_dt_gridsearch.loc[f,'best_score'] = best_score"
   ]
  },
  {
   "cell_type": "code",
   "execution_count": 58,
   "metadata": {
    "collapsed": false
   },
   "outputs": [
    {
     "data": {
      "text/html": [
       "<div>\n",
       "<table border=\"1\" class=\"dataframe\">\n",
       "  <thead>\n",
       "    <tr style=\"text-align: right;\">\n",
       "      <th></th>\n",
       "      <th>best_params</th>\n",
       "      <th>best_score</th>\n",
       "    </tr>\n",
       "  </thead>\n",
       "  <tbody>\n",
       "    <tr>\n",
       "      <th>fc7_fc8</th>\n",
       "      <td>[{u'estimator__min_samples_split': 100, u'esti...</td>\n",
       "      <td>0.770961</td>\n",
       "    </tr>\n",
       "    <tr>\n",
       "      <th>fc7</th>\n",
       "      <td>[{u'estimator__min_samples_split': 1500, u'est...</td>\n",
       "      <td>0.770440</td>\n",
       "    </tr>\n",
       "    <tr>\n",
       "      <th>fc7_prob</th>\n",
       "      <td>[{u'estimator__min_samples_split': 1000, u'est...</td>\n",
       "      <td>0.765483</td>\n",
       "    </tr>\n",
       "    <tr>\n",
       "      <th>fc7_fc8_prob</th>\n",
       "      <td>[{u'estimator__min_samples_split': 100, u'esti...</td>\n",
       "      <td>0.761931</td>\n",
       "    </tr>\n",
       "    <tr>\n",
       "      <th>fc8</th>\n",
       "      <td>[{u'estimator__min_samples_split': 1500, u'est...</td>\n",
       "      <td>0.760133</td>\n",
       "    </tr>\n",
       "    <tr>\n",
       "      <th>fc6_fc8_prob</th>\n",
       "      <td>[{u'estimator__min_samples_split': 100, u'esti...</td>\n",
       "      <td>0.755322</td>\n",
       "    </tr>\n",
       "    <tr>\n",
       "      <th>fc6_fc7_prob</th>\n",
       "      <td>[{u'estimator__min_samples_split': 100, u'esti...</td>\n",
       "      <td>0.755104</td>\n",
       "    </tr>\n",
       "    <tr>\n",
       "      <th>fc6_fc7_fc8_prob</th>\n",
       "      <td>[{u'estimator__min_samples_split': 1, u'estima...</td>\n",
       "      <td>0.754596</td>\n",
       "    </tr>\n",
       "    <tr>\n",
       "      <th>fc6_prob</th>\n",
       "      <td>[{u'estimator__min_samples_split': 1, u'estima...</td>\n",
       "      <td>0.753453</td>\n",
       "    </tr>\n",
       "    <tr>\n",
       "      <th>fc6_fc7_fc8</th>\n",
       "      <td>[{u'estimator__min_samples_split': 1, u'estima...</td>\n",
       "      <td>0.753018</td>\n",
       "    </tr>\n",
       "    <tr>\n",
       "      <th>fc6_fc8</th>\n",
       "      <td>[{u'estimator__min_samples_split': 1, u'estima...</td>\n",
       "      <td>0.752233</td>\n",
       "    </tr>\n",
       "    <tr>\n",
       "      <th>fc6_fc7</th>\n",
       "      <td>[{u'estimator__min_samples_split': 100, u'esti...</td>\n",
       "      <td>0.750824</td>\n",
       "    </tr>\n",
       "    <tr>\n",
       "      <th>fc8_prob</th>\n",
       "      <td>[{u'estimator__min_samples_split': 100, u'esti...</td>\n",
       "      <td>0.750093</td>\n",
       "    </tr>\n",
       "    <tr>\n",
       "      <th>fc6</th>\n",
       "      <td>[{u'estimator__min_samples_split': 1, u'estima...</td>\n",
       "      <td>0.749289</td>\n",
       "    </tr>\n",
       "    <tr>\n",
       "      <th>prob</th>\n",
       "      <td>[{u'estimator__min_samples_split': 100, u'esti...</td>\n",
       "      <td>0.732799</td>\n",
       "    </tr>\n",
       "  </tbody>\n",
       "</table>\n",
       "</div>"
      ],
      "text/plain": [
       "                                                        best_params  \\\n",
       "fc7_fc8           [{u'estimator__min_samples_split': 100, u'esti...   \n",
       "fc7               [{u'estimator__min_samples_split': 1500, u'est...   \n",
       "fc7_prob          [{u'estimator__min_samples_split': 1000, u'est...   \n",
       "fc7_fc8_prob      [{u'estimator__min_samples_split': 100, u'esti...   \n",
       "fc8               [{u'estimator__min_samples_split': 1500, u'est...   \n",
       "fc6_fc8_prob      [{u'estimator__min_samples_split': 100, u'esti...   \n",
       "fc6_fc7_prob      [{u'estimator__min_samples_split': 100, u'esti...   \n",
       "fc6_fc7_fc8_prob  [{u'estimator__min_samples_split': 1, u'estima...   \n",
       "fc6_prob          [{u'estimator__min_samples_split': 1, u'estima...   \n",
       "fc6_fc7_fc8       [{u'estimator__min_samples_split': 1, u'estima...   \n",
       "fc6_fc8           [{u'estimator__min_samples_split': 1, u'estima...   \n",
       "fc6_fc7           [{u'estimator__min_samples_split': 100, u'esti...   \n",
       "fc8_prob          [{u'estimator__min_samples_split': 100, u'esti...   \n",
       "fc6               [{u'estimator__min_samples_split': 1, u'estima...   \n",
       "prob              [{u'estimator__min_samples_split': 100, u'esti...   \n",
       "\n",
       "                  best_score  \n",
       "fc7_fc8             0.770961  \n",
       "fc7                 0.770440  \n",
       "fc7_prob            0.765483  \n",
       "fc7_fc8_prob        0.761931  \n",
       "fc8                 0.760133  \n",
       "fc6_fc8_prob        0.755322  \n",
       "fc6_fc7_prob        0.755104  \n",
       "fc6_fc7_fc8_prob    0.754596  \n",
       "fc6_prob            0.753453  \n",
       "fc6_fc7_fc8         0.753018  \n",
       "fc6_fc8             0.752233  \n",
       "fc6_fc7             0.750824  \n",
       "fc8_prob            0.750093  \n",
       "fc6                 0.749289  \n",
       "prob                0.732799  "
      ]
     },
     "execution_count": 58,
     "metadata": {},
     "output_type": "execute_result"
    }
   ],
   "source": [
    "df_dt_gridsearch.sort('best_score', ascending=False)"
   ]
  },
  {
   "cell_type": "markdown",
   "metadata": {},
   "source": [
    "<h2> K Nearest Neighbourgh"
   ]
  },
  {
   "cell_type": "code",
   "execution_count": 85,
   "metadata": {
    "collapsed": true
   },
   "outputs": [],
   "source": [
    "def feature_grid_search_knn(train_data, train_labels):\n",
    "    clf_knn = OneVsRestClassifier(KNeighborsClassifier())\n",
    "    param_grid_knn = {'estimator__n_neighbors': [2,5,10,20,40,50,70],\n",
    "              'estimator__algorithm':['auto', 'ball_tree', 'kd_tree', 'brute']}\n",
    "    \n",
    "    grid_knn = GridSearchCV(clf_knn, param_grid_knn, cv=5, scoring='f1')\n",
    "    grid_knn = grid_knn.fit(train_data, train_labels)\n",
    "    \n",
    "    return grid_knn.best_params_, grid_knn.best_score_"
   ]
  },
  {
   "cell_type": "code",
   "execution_count": 86,
   "metadata": {
    "collapsed": true
   },
   "outputs": [],
   "source": [
    "columns = ['best_params','best_score']\n",
    "df_knn_gridsearch = pd.DataFrame(index=features_names, columns=columns)\n",
    "df_knn_gridsearch= df_knn_gridsearch.fillna(0) "
   ]
  },
  {
   "cell_type": "code",
   "execution_count": 87,
   "metadata": {
    "collapsed": true
   },
   "outputs": [],
   "source": [
    "for f in features_names:\n",
    "    data_reduced = PCA(n_components=100).fit_transform(features[f])\n",
    "    best_params, best_score = feature_grid_search_knn(data_reduced, train_labels)\n",
    "    df_knn_gridsearch.loc[f,'best_params'] = [best_params]\n",
    "    df_knn_gridsearch.loc[f,'best_score'] = best_score"
   ]
  },
  {
   "cell_type": "code",
   "execution_count": 88,
   "metadata": {
    "collapsed": false
   },
   "outputs": [
    {
     "data": {
      "text/html": [
       "<div>\n",
       "<table border=\"1\" class=\"dataframe\">\n",
       "  <thead>\n",
       "    <tr style=\"text-align: right;\">\n",
       "      <th></th>\n",
       "      <th>best_params</th>\n",
       "      <th>best_score</th>\n",
       "    </tr>\n",
       "  </thead>\n",
       "  <tbody>\n",
       "    <tr>\n",
       "      <th>fc8</th>\n",
       "      <td>[{u'estimator__n_neighbors': 20, u'estimator__...</td>\n",
       "      <td>0.806083</td>\n",
       "    </tr>\n",
       "    <tr>\n",
       "      <th>fc7_fc8</th>\n",
       "      <td>[{u'estimator__n_neighbors': 10, u'estimator__...</td>\n",
       "      <td>0.805349</td>\n",
       "    </tr>\n",
       "    <tr>\n",
       "      <th>fc7</th>\n",
       "      <td>[{u'estimator__n_neighbors': 10, u'estimator__...</td>\n",
       "      <td>0.805210</td>\n",
       "    </tr>\n",
       "    <tr>\n",
       "      <th>fc7_fc8_prob</th>\n",
       "      <td>[{u'estimator__n_neighbors': 10, u'estimator__...</td>\n",
       "      <td>0.804737</td>\n",
       "    </tr>\n",
       "    <tr>\n",
       "      <th>fc7_prob</th>\n",
       "      <td>[{u'estimator__n_neighbors': 10, u'estimator__...</td>\n",
       "      <td>0.803892</td>\n",
       "    </tr>\n",
       "    <tr>\n",
       "      <th>fc6_fc7_fc8_prob</th>\n",
       "      <td>[{u'estimator__n_neighbors': 20, u'estimator__...</td>\n",
       "      <td>0.799286</td>\n",
       "    </tr>\n",
       "    <tr>\n",
       "      <th>fc6_fc7_prob</th>\n",
       "      <td>[{u'estimator__n_neighbors': 20, u'estimator__...</td>\n",
       "      <td>0.799076</td>\n",
       "    </tr>\n",
       "    <tr>\n",
       "      <th>fc6_fc7</th>\n",
       "      <td>[{u'estimator__n_neighbors': 20, u'estimator__...</td>\n",
       "      <td>0.798806</td>\n",
       "    </tr>\n",
       "    <tr>\n",
       "      <th>fc6_fc7_fc8</th>\n",
       "      <td>[{u'estimator__n_neighbors': 20, u'estimator__...</td>\n",
       "      <td>0.798576</td>\n",
       "    </tr>\n",
       "    <tr>\n",
       "      <th>fc6_fc8_prob</th>\n",
       "      <td>[{u'estimator__n_neighbors': 20, u'estimator__...</td>\n",
       "      <td>0.797461</td>\n",
       "    </tr>\n",
       "    <tr>\n",
       "      <th>fc6_fc8</th>\n",
       "      <td>[{u'estimator__n_neighbors': 20, u'estimator__...</td>\n",
       "      <td>0.797457</td>\n",
       "    </tr>\n",
       "    <tr>\n",
       "      <th>fc8_prob</th>\n",
       "      <td>[{u'estimator__n_neighbors': 20, u'estimator__...</td>\n",
       "      <td>0.797280</td>\n",
       "    </tr>\n",
       "    <tr>\n",
       "      <th>fc6_prob</th>\n",
       "      <td>[{u'estimator__n_neighbors': 20, u'estimator__...</td>\n",
       "      <td>0.796894</td>\n",
       "    </tr>\n",
       "    <tr>\n",
       "      <th>fc6</th>\n",
       "      <td>[{u'estimator__n_neighbors': 20, u'estimator__...</td>\n",
       "      <td>0.796870</td>\n",
       "    </tr>\n",
       "    <tr>\n",
       "      <th>prob</th>\n",
       "      <td>[{u'estimator__n_neighbors': 20, u'estimator__...</td>\n",
       "      <td>0.785649</td>\n",
       "    </tr>\n",
       "  </tbody>\n",
       "</table>\n",
       "</div>"
      ],
      "text/plain": [
       "                                                        best_params  \\\n",
       "fc8               [{u'estimator__n_neighbors': 20, u'estimator__...   \n",
       "fc7_fc8           [{u'estimator__n_neighbors': 10, u'estimator__...   \n",
       "fc7               [{u'estimator__n_neighbors': 10, u'estimator__...   \n",
       "fc7_fc8_prob      [{u'estimator__n_neighbors': 10, u'estimator__...   \n",
       "fc7_prob          [{u'estimator__n_neighbors': 10, u'estimator__...   \n",
       "fc6_fc7_fc8_prob  [{u'estimator__n_neighbors': 20, u'estimator__...   \n",
       "fc6_fc7_prob      [{u'estimator__n_neighbors': 20, u'estimator__...   \n",
       "fc6_fc7           [{u'estimator__n_neighbors': 20, u'estimator__...   \n",
       "fc6_fc7_fc8       [{u'estimator__n_neighbors': 20, u'estimator__...   \n",
       "fc6_fc8_prob      [{u'estimator__n_neighbors': 20, u'estimator__...   \n",
       "fc6_fc8           [{u'estimator__n_neighbors': 20, u'estimator__...   \n",
       "fc8_prob          [{u'estimator__n_neighbors': 20, u'estimator__...   \n",
       "fc6_prob          [{u'estimator__n_neighbors': 20, u'estimator__...   \n",
       "fc6               [{u'estimator__n_neighbors': 20, u'estimator__...   \n",
       "prob              [{u'estimator__n_neighbors': 20, u'estimator__...   \n",
       "\n",
       "                  best_score  \n",
       "fc8                 0.806083  \n",
       "fc7_fc8             0.805349  \n",
       "fc7                 0.805210  \n",
       "fc7_fc8_prob        0.804737  \n",
       "fc7_prob            0.803892  \n",
       "fc6_fc7_fc8_prob    0.799286  \n",
       "fc6_fc7_prob        0.799076  \n",
       "fc6_fc7             0.798806  \n",
       "fc6_fc7_fc8         0.798576  \n",
       "fc6_fc8_prob        0.797461  \n",
       "fc6_fc8             0.797457  \n",
       "fc8_prob            0.797280  \n",
       "fc6_prob            0.796894  \n",
       "fc6                 0.796870  \n",
       "prob                0.785649  "
      ]
     },
     "execution_count": 88,
     "metadata": {},
     "output_type": "execute_result"
    }
   ],
   "source": [
    "df_knn_gridsearch.sort('best_score', ascending=False)"
   ]
  },
  {
   "cell_type": "markdown",
   "metadata": {},
   "source": [
    "<h2> Gaussian Naive Bayes"
   ]
  },
  {
   "cell_type": "code",
   "execution_count": 95,
   "metadata": {
    "collapsed": true
   },
   "outputs": [],
   "source": [
    "def feature_gnb(train_data, train_labels):\n",
    "    clf_gnb = OneVsRestClassifier(GaussianNB())\n",
    "    kf = cross_validation.KFold(n = 1996, n_folds = 5)\n",
    "    score = np.mean(cross_validation.cross_val_score(clf_gnb, train_data, train_labels, cv = kf, scoring = 'f1'))\n",
    "    return score"
   ]
  },
  {
   "cell_type": "code",
   "execution_count": 96,
   "metadata": {
    "collapsed": false
   },
   "outputs": [],
   "source": [
    "columns = ['cv_score']\n",
    "df_gnb = pd.DataFrame(index=features_names, columns=columns)\n",
    "df_gnb= df_gnb.fillna(0) "
   ]
  },
  {
   "cell_type": "code",
   "execution_count": 97,
   "metadata": {
    "collapsed": true
   },
   "outputs": [],
   "source": [
    "for f in features_names:\n",
    "    data_reduced = PCA(n_components=100).fit_transform(features[f])\n",
    "    score = feature_gnb(data_reduced, train_labels)\n",
    "    df_gnb.loc[f,'cv_score'] = score"
   ]
  },
  {
   "cell_type": "code",
   "execution_count": 100,
   "metadata": {
    "collapsed": false
   },
   "outputs": [
    {
     "data": {
      "text/html": [
       "<div>\n",
       "<table border=\"1\" class=\"dataframe\">\n",
       "  <thead>\n",
       "    <tr style=\"text-align: right;\">\n",
       "      <th></th>\n",
       "      <th>cv_score</th>\n",
       "    </tr>\n",
       "  </thead>\n",
       "  <tbody>\n",
       "    <tr>\n",
       "      <th>fc8</th>\n",
       "      <td>0.694705</td>\n",
       "    </tr>\n",
       "    <tr>\n",
       "      <th>fc8_prob</th>\n",
       "      <td>0.692252</td>\n",
       "    </tr>\n",
       "    <tr>\n",
       "      <th>fc7_fc8_prob</th>\n",
       "      <td>0.692002</td>\n",
       "    </tr>\n",
       "    <tr>\n",
       "      <th>fc7_fc8</th>\n",
       "      <td>0.690906</td>\n",
       "    </tr>\n",
       "    <tr>\n",
       "      <th>fc7</th>\n",
       "      <td>0.690854</td>\n",
       "    </tr>\n",
       "    <tr>\n",
       "      <th>fc7_prob</th>\n",
       "      <td>0.690412</td>\n",
       "    </tr>\n",
       "    <tr>\n",
       "      <th>prob</th>\n",
       "      <td>0.682144</td>\n",
       "    </tr>\n",
       "    <tr>\n",
       "      <th>fc6_fc7_fc8_prob</th>\n",
       "      <td>0.668296</td>\n",
       "    </tr>\n",
       "    <tr>\n",
       "      <th>fc6_fc7</th>\n",
       "      <td>0.668240</td>\n",
       "    </tr>\n",
       "    <tr>\n",
       "      <th>fc6_fc7_fc8</th>\n",
       "      <td>0.668012</td>\n",
       "    </tr>\n",
       "    <tr>\n",
       "      <th>fc6_fc7_prob</th>\n",
       "      <td>0.667940</td>\n",
       "    </tr>\n",
       "    <tr>\n",
       "      <th>fc6_prob</th>\n",
       "      <td>0.664234</td>\n",
       "    </tr>\n",
       "    <tr>\n",
       "      <th>fc6_fc8_prob</th>\n",
       "      <td>0.663924</td>\n",
       "    </tr>\n",
       "    <tr>\n",
       "      <th>fc6_fc8</th>\n",
       "      <td>0.663903</td>\n",
       "    </tr>\n",
       "    <tr>\n",
       "      <th>fc6</th>\n",
       "      <td>0.662914</td>\n",
       "    </tr>\n",
       "  </tbody>\n",
       "</table>\n",
       "</div>"
      ],
      "text/plain": [
       "                  cv_score\n",
       "fc8               0.694705\n",
       "fc8_prob          0.692252\n",
       "fc7_fc8_prob      0.692002\n",
       "fc7_fc8           0.690906\n",
       "fc7               0.690854\n",
       "fc7_prob          0.690412\n",
       "prob              0.682144\n",
       "fc6_fc7_fc8_prob  0.668296\n",
       "fc6_fc7           0.668240\n",
       "fc6_fc7_fc8       0.668012\n",
       "fc6_fc7_prob      0.667940\n",
       "fc6_prob          0.664234\n",
       "fc6_fc8_prob      0.663924\n",
       "fc6_fc8           0.663903\n",
       "fc6               0.662914"
      ]
     },
     "execution_count": 100,
     "metadata": {},
     "output_type": "execute_result"
    }
   ],
   "source": [
    "df_gnb.sort('cv_score', ascending=False)"
   ]
  },
  {
   "cell_type": "markdown",
   "metadata": {},
   "source": [
    "<h2> Random forest classifier"
   ]
  },
  {
   "cell_type": "code",
   "execution_count": 64,
   "metadata": {
    "collapsed": true
   },
   "outputs": [],
   "source": [
    "rfc = OneVsRestClassifier(RandomForestClassifier())"
   ]
  },
  {
   "cell_type": "code",
   "execution_count": 71,
   "metadata": {
    "collapsed": false
   },
   "outputs": [
    {
     "name": "stdout",
     "output_type": "stream",
     "text": [
      "0.180861723447\n",
      "{'estimator__min_samples_split': 1, 'estimator__max_depth': 100, 'estimator__n_estimators': 200}\n",
      "OneVsRestClassifier(estimator=RandomForestClassifier(bootstrap=True, class_weight=None, criterion='gini',\n",
      "            max_depth=100, max_features='auto', max_leaf_nodes=None,\n",
      "            min_samples_leaf=1, min_samples_split=1,\n",
      "            min_weight_fraction_leaf=0.0, n_estimators=200, n_jobs=1,\n",
      "            oob_score=False, random_state=None, verbose=0,\n",
      "            warm_start=False),\n",
      "          n_jobs=1)\n"
     ]
    }
   ],
   "source": [
    "param_grid_rfc = {'estimator__n_estimators': [1,5,10,100,200],\n",
    "              'estimator__min_samples_split': [1,100,1000],\n",
    "              'estimator__max_depth':[10,100,200,250,300]}\n",
    "grid = GridSearchCV(rfc,param_grid_rfc,cv = 3,scoring = 'accuracy')\n",
    "grid.fit(train_data_reduced,train_labels)\n",
    "\n",
    "#print(grid.grid_scores_)\n",
    "print(grid.best_score_)\n",
    "print(grid.best_params_)"
   ]
  },
  {
   "cell_type": "markdown",
   "metadata": {},
   "source": [
    "Random forests are really doing very badly... :-/"
   ]
  },
  {
   "cell_type": "markdown",
   "metadata": {},
   "source": [
    "<h2> Gradient Boosting Classifier"
   ]
  },
  {
   "cell_type": "code",
   "execution_count": 82,
   "metadata": {
    "collapsed": true
   },
   "outputs": [],
   "source": [
    "gbc = OneVsRestClassifier(GradientBoostingClassifier())"
   ]
  },
  {
   "cell_type": "code",
   "execution_count": 83,
   "metadata": {
    "collapsed": false
   },
   "outputs": [
    {
     "name": "stdout",
     "output_type": "stream",
     "text": [
      "0.163827655311\n",
      "{'estimator__learning_rate': 0.8, 'estimator__n_estimators': 32}\n"
     ]
    }
   ],
   "source": [
    "train_data_reduced = PCA(n_components=100).fit_transform(features['fc7_fc8'])\n",
    "param_grid_gbc = {'estimator__n_estimators': [16, 32], 'estimator__learning_rate': [0.8, 1.0] }\n",
    "grid_gbc = GridSearchCV(gbc,param_grid_gbc,cv = 3,scoring = 'accuracy')\n",
    "grid_gbc.fit(train_data_reduced,train_labels)\n",
    "\n",
    "#print(grid.grid_scores_)\n",
    "print(grid_gbc.best_score_)\n",
    "print(grid_gbc.best_params_)"
   ]
  },
  {
   "cell_type": "markdown",
   "metadata": {},
   "source": [
    "Gradient boosting is doing very badly too... :-/"
   ]
  },
  {
   "cell_type": "markdown",
   "metadata": {},
   "source": [
    "<h1> Training and voting"
   ]
  },
  {
   "cell_type": "markdown",
   "metadata": {},
   "source": [
    "The previous section showed that relatively high f1-score (0.77-0.83) on cross validation/grid search were achieved for Logistic regression, SVC, and Decision Tree. Gaussian Naive Bayes classifier gave 0.69. F1-score was surprisingly low for Random Forests and Gradient Boosting Classifier. Therefore, these classifiers are excluded from further steps in model building. \n",
    "\n",
    "In this section, the classifiers are trained with the obtained parameters for grid search and using the specific set of features obtained during cross validation. After that, voting is implemented to ensemble outcome from different classifiers for the best performance."
   ]
  },
  {
   "cell_type": "markdown",
   "metadata": {},
   "source": [
    "<h2> Training classifiers"
   ]
  },
  {
   "cell_type": "code",
   "execution_count": 10,
   "metadata": {
    "collapsed": true
   },
   "outputs": [],
   "source": [
    "train_data_fc7_fc8_pca100 = PCA(n_components=100).fit_transform(features['fc7_fc8'])\n",
    "train_data_fc8_pca100 = PCA(n_components=100).fit_transform(features['fc8'])"
   ]
  },
  {
   "cell_type": "code",
   "execution_count": 11,
   "metadata": {
    "collapsed": false
   },
   "outputs": [
    {
     "data": {
      "text/plain": [
       "0.85290099227494931"
      ]
     },
     "execution_count": 11,
     "metadata": {},
     "output_type": "execute_result"
    }
   ],
   "source": [
    "# Logistic Regression\n",
    "clf_lr = OneVsRestClassifier(LogisticRegression(C = 0.05, penalty = 'l1'))\n",
    "clf_lr = clf_lr.fit(train_data_fc7_fc8_pca100, train_labels)\n",
    "lg_pred = clf_lr.predict(train_data_fc7_fc8_pca100)\n",
    "f1_score(train_labels, lg_pred, average='weighted') "
   ]
  },
  {
   "cell_type": "code",
   "execution_count": 12,
   "metadata": {
    "collapsed": false
   },
   "outputs": [
    {
     "data": {
      "text/plain": [
       "0.86496043317644433"
      ]
     },
     "execution_count": 12,
     "metadata": {},
     "output_type": "execute_result"
    }
   ],
   "source": [
    "# SVC\n",
    "clf_svc = OneVsRestClassifier(SVC(C= 1, gamma = 0.0001, kernel = 'rbf'))\n",
    "clf_svc = clf_svc.fit(train_data_fc7_fc8_pca100, train_labels)\n",
    "svc_pred = clf_svc.predict(train_data_fc7_fc8_pca100)\n",
    "f1_score(train_labels, svc_pred, average='weighted') "
   ]
  },
  {
   "cell_type": "code",
   "execution_count": 13,
   "metadata": {
    "collapsed": false
   },
   "outputs": [
    {
     "data": {
      "text/plain": [
       "0.84268206312895444"
      ]
     },
     "execution_count": 13,
     "metadata": {},
     "output_type": "execute_result"
    }
   ],
   "source": [
    "# Decision tree\n",
    "clf_dt = OneVsRestClassifier(DecisionTreeClassifier(max_depth = 6, min_samples_split=100))\n",
    "clf_dt = clf_dt.fit(train_data_fc7_fc8_pca100, train_labels)\n",
    "dt_pred = clf_dt.predict(train_data_fc7_fc8_pca100)\n",
    "f1_score(train_labels, dt_pred, average='weighted') "
   ]
  },
  {
   "cell_type": "code",
   "execution_count": 14,
   "metadata": {
    "collapsed": false
   },
   "outputs": [
    {
     "data": {
      "text/plain": [
       "0.82839456277633539"
      ]
     },
     "execution_count": 14,
     "metadata": {},
     "output_type": "execute_result"
    }
   ],
   "source": [
    "# K Nearest Neighbourgh\n",
    "clf_knn = OneVsRestClassifier(KNeighborsClassifier(algorithm = 'auto', n_neighbors = 20))\n",
    "clf_knn = clf_knn.fit(train_data_fc8_pca100, train_labels)\n",
    "knn_pred = clf_knn.predict(train_data_fc8_pca100)\n",
    "f1_score(train_labels, knn_pred, average='weighted')"
   ]
  },
  {
   "cell_type": "code",
   "execution_count": 15,
   "metadata": {
    "collapsed": false
   },
   "outputs": [
    {
     "data": {
      "text/plain": [
       "0.70145226200952426"
      ]
     },
     "execution_count": 15,
     "metadata": {},
     "output_type": "execute_result"
    }
   ],
   "source": [
    "# Gaussian Naive Bayes\n",
    "clf_gnb = OneVsRestClassifier(GaussianNB())\n",
    "clf_gnb = clf_gnb.fit(train_data_fc8_pca100, train_labels)\n",
    "gnb_pred = clf_gnb.predict(train_data_fc8_pca100)\n",
    "f1_score(train_labels, gnb_pred, average='weighted')"
   ]
  },
  {
   "cell_type": "markdown",
   "metadata": {},
   "source": [
    "<h2> Loading test data"
   ]
  },
  {
   "cell_type": "code",
   "execution_count": 16,
   "metadata": {
    "collapsed": false
   },
   "outputs": [],
   "source": [
    "df = pd.read_pickle('df_test_'+'fc7')\n",
    "df.reset_index(level=0, inplace=True)\n",
    "df = df.dropna(how = 'any')\n",
    "df['meanCNN'] = df['meanCNN'].apply(lambda x: list(x))    \n",
    "test_data_fc7 = df['meanCNN']\n",
    "test_data_fc7 = np.array([x for x in test_data_fc7])"
   ]
  },
  {
   "cell_type": "code",
   "execution_count": 17,
   "metadata": {
    "collapsed": false
   },
   "outputs": [],
   "source": [
    "df = pd.read_pickle('df_test_'+'fc8')\n",
    "df.reset_index(level=0, inplace=True)\n",
    "df = df.dropna(how = 'any')\n",
    "df['meanCNN'] = df['meanCNN'].apply(lambda x: list(x))    \n",
    "test_data_fc8 = df['meanCNN']\n",
    "test_data_fc8 = np.array([x for x in test_data_fc8])"
   ]
  },
  {
   "cell_type": "code",
   "execution_count": 18,
   "metadata": {
    "collapsed": false
   },
   "outputs": [],
   "source": [
    "PCA1 = PCA(n_components=100)\n",
    "PCA1.fit_transform(features['fc7_fc8'])\n",
    "test_data_fc7_fc8_pca100 = PCA1.transform(np.hstack([test_data_fc7, test_data_fc8]))"
   ]
  },
  {
   "cell_type": "code",
   "execution_count": 19,
   "metadata": {
    "collapsed": false
   },
   "outputs": [],
   "source": [
    "PCA2 = PCA(n_components=100)\n",
    "PCA2.fit_transform(features['fc8'])\n",
    "test_data_fc8_pca100 = PCA2.transform(test_data_fc8)"
   ]
  },
  {
   "cell_type": "markdown",
   "metadata": {},
   "source": [
    "<h2> Making predictions on test data"
   ]
  },
  {
   "cell_type": "code",
   "execution_count": 30,
   "metadata": {
    "collapsed": true
   },
   "outputs": [],
   "source": [
    "df_submission = pd.read_csv('sample_submission.csv')"
   ]
  },
  {
   "cell_type": "code",
   "execution_count": 31,
   "metadata": {
    "collapsed": false
   },
   "outputs": [],
   "source": [
    "def test_for_kaggle_submission(pred, df_submission, train_labels):\n",
    "    ML = MultiLabelBinarizer()\n",
    "    ML.fit_transform(train_labels)\n",
    "    pred_tran = ML.inverse_transform(pred)\n",
    "    pred_tran = [' '.join(map(str, map(int, p))) for p in pred_tran]\n",
    "    df_submission['labels'] = pred_tran\n",
    "    df_submission = df_submission.set_index('business_id')\n",
    "    return df_submission"
   ]
  },
  {
   "cell_type": "code",
   "execution_count": 32,
   "metadata": {
    "collapsed": true
   },
   "outputs": [],
   "source": [
    "lg_pred_test = clf_lr.predict(test_data_fc7_fc8_pca100)"
   ]
  },
  {
   "cell_type": "code",
   "execution_count": 33,
   "metadata": {
    "collapsed": true
   },
   "outputs": [],
   "source": [
    "svc_pred_test = clf_svc.predict(test_data_fc7_fc8_pca100)"
   ]
  },
  {
   "cell_type": "code",
   "execution_count": 34,
   "metadata": {
    "collapsed": true
   },
   "outputs": [],
   "source": [
    "dt_pred_test = clf_dt.predict(test_data_fc7_fc8_pca100)"
   ]
  },
  {
   "cell_type": "code",
   "execution_count": 35,
   "metadata": {
    "collapsed": true
   },
   "outputs": [],
   "source": [
    "knn_pred_test = clf_knn.predict(test_data_fc8_pca100)"
   ]
  },
  {
   "cell_type": "code",
   "execution_count": 36,
   "metadata": {
    "collapsed": true
   },
   "outputs": [],
   "source": [
    "gnb_pred_test = clf_gnb.predict(test_data_fc8_pca100)"
   ]
  },
  {
   "cell_type": "code",
   "execution_count": 37,
   "metadata": {
    "collapsed": true
   },
   "outputs": [],
   "source": [
    "df = test_for_kaggle_submission(lg_pred_test, df_submission, train_labels_raw)\n",
    "df.to_csv('vanilla_lg_submission.csv')"
   ]
  },
  {
   "cell_type": "code",
   "execution_count": 38,
   "metadata": {
    "collapsed": true
   },
   "outputs": [],
   "source": [
    "df = test_for_kaggle_submission(svc_pred_test, df_submission, train_labels_raw)\n",
    "df.to_csv('svc_submission.csv')"
   ]
  },
  {
   "cell_type": "markdown",
   "metadata": {},
   "source": [
    "<h3> Voting"
   ]
  },
  {
   "cell_type": "code",
   "execution_count": 39,
   "metadata": {
    "collapsed": false
   },
   "outputs": [
    {
     "data": {
      "text/plain": [
       "array([[ 1.        ,  0.9013963 ,  0.71693647,  0.75008745,  0.41221015],\n",
       "       [ 0.9013963 ,  1.        ,  0.73488312,  0.79433711,  0.44047659],\n",
       "       [ 0.71693647,  0.73488312,  1.        ,  0.67699551,  0.38591413],\n",
       "       [ 0.75008745,  0.79433711,  0.67699551,  1.        ,  0.46029867],\n",
       "       [ 0.41221015,  0.44047659,  0.38591413,  0.46029867,  1.        ]])"
      ]
     },
     "execution_count": 39,
     "metadata": {},
     "output_type": "execute_result"
    }
   ],
   "source": [
    "np.corrcoef([lg_pred.flatten(),svc_pred.flatten(), dt_pred.flatten(), \n",
    "             knn_pred.flatten(), gnb_pred.flatten()])"
   ]
  },
  {
   "cell_type": "code",
   "execution_count": 40,
   "metadata": {
    "collapsed": false
   },
   "outputs": [
    {
     "data": {
      "text/plain": [
       "array([[ 1.        ,  0.81784541,  0.59535222,  0.56890812,  0.27217474],\n",
       "       [ 0.81784541,  1.        ,  0.67109782,  0.69033568,  0.36444732],\n",
       "       [ 0.59535222,  0.67109782,  1.        ,  0.58458881,  0.3108894 ],\n",
       "       [ 0.56890812,  0.69033568,  0.58458881,  1.        ,  0.57562528],\n",
       "       [ 0.27217474,  0.36444732,  0.3108894 ,  0.57562528,  1.        ]])"
      ]
     },
     "execution_count": 40,
     "metadata": {},
     "output_type": "execute_result"
    }
   ],
   "source": [
    "np.corrcoef([lg_pred_test.flatten(),svc_pred_test.flatten(), dt_pred_test.flatten(), \n",
    "             knn_pred_test.flatten(), gnb_pred_test.flatten()])"
   ]
  },
  {
   "cell_type": "markdown",
   "metadata": {},
   "source": [
    "Classifiers are substantially decorrelated. Good correlation is observed only between SVC and Logistic Regression"
   ]
  },
  {
   "cell_type": "code",
   "execution_count": 41,
   "metadata": {
    "collapsed": false
   },
   "outputs": [
    {
     "data": {
      "text/plain": [
       "0.72436598885915904"
      ]
     },
     "execution_count": 41,
     "metadata": {},
     "output_type": "execute_result"
    }
   ],
   "source": [
    "# Checking voting on the outcome from the training data\n",
    "# Democracy voting\n",
    "en_dem_pred_train = np.fix(np.average([lg_pred, svc_pred, dt_pred, knn_pred,gnb_pred],axis=0))\n",
    "f1_score(train_labels, en_dem_pred_train, average='weighted')"
   ]
  },
  {
   "cell_type": "code",
   "execution_count": 42,
   "metadata": {
    "collapsed": false
   },
   "outputs": [
    {
     "data": {
      "text/plain": [
       "0.83020567687632785"
      ]
     },
     "execution_count": 42,
     "metadata": {},
     "output_type": "execute_result"
    }
   ],
   "source": [
    "# Checking voting on the outcome from the training data\n",
    "# Weights\n",
    "en_weights_pred_train = np.fix(np.average([lg_pred, svc_pred, dt_pred,knn_pred,gnb_pred],axis=0, \n",
    "                                     weights=[3,3,2,0,0]))\n",
    "f1_score(train_labels, en_weights_pred_train, average='weighted')"
   ]
  },
  {
   "cell_type": "markdown",
   "metadata": {},
   "source": [
    "<h3> Let's try to tune weights on the outcome from the train data"
   ]
  },
  {
   "cell_type": "code",
   "execution_count": 43,
   "metadata": {
    "collapsed": false
   },
   "outputs": [
    {
     "data": {
      "text/html": [
       "<div>\n",
       "<table border=\"1\" class=\"dataframe\">\n",
       "  <thead>\n",
       "    <tr style=\"text-align: right;\">\n",
       "      <th></th>\n",
       "      <th>w1</th>\n",
       "      <th>w2</th>\n",
       "      <th>w3</th>\n",
       "      <th>w4</th>\n",
       "      <th>w5</th>\n",
       "      <th>f1_score</th>\n",
       "    </tr>\n",
       "  </thead>\n",
       "  <tbody>\n",
       "    <tr>\n",
       "      <th>0</th>\n",
       "      <td>1</td>\n",
       "      <td>1</td>\n",
       "      <td>1</td>\n",
       "      <td>0</td>\n",
       "      <td>0</td>\n",
       "      <td>0.830206</td>\n",
       "    </tr>\n",
       "    <tr>\n",
       "      <th>848</th>\n",
       "      <td>3</td>\n",
       "      <td>1</td>\n",
       "      <td>3</td>\n",
       "      <td>0</td>\n",
       "      <td>0</td>\n",
       "      <td>0.830206</td>\n",
       "    </tr>\n",
       "    <tr>\n",
       "      <th>773</th>\n",
       "      <td>2</td>\n",
       "      <td>4</td>\n",
       "      <td>4</td>\n",
       "      <td>0</td>\n",
       "      <td>0</td>\n",
       "      <td>0.830206</td>\n",
       "    </tr>\n",
       "    <tr>\n",
       "      <th>748</th>\n",
       "      <td>2</td>\n",
       "      <td>4</td>\n",
       "      <td>3</td>\n",
       "      <td>0</td>\n",
       "      <td>0</td>\n",
       "      <td>0.830206</td>\n",
       "    </tr>\n",
       "    <tr>\n",
       "      <th>723</th>\n",
       "      <td>2</td>\n",
       "      <td>4</td>\n",
       "      <td>2</td>\n",
       "      <td>0</td>\n",
       "      <td>0</td>\n",
       "      <td>0.830206</td>\n",
       "    </tr>\n",
       "  </tbody>\n",
       "</table>\n",
       "</div>"
      ],
      "text/plain": [
       "     w1  w2  w3  w4  w5  f1_score\n",
       "0     1   1   1   0   0  0.830206\n",
       "848   3   1   3   0   0  0.830206\n",
       "773   2   4   4   0   0  0.830206\n",
       "748   2   4   3   0   0  0.830206\n",
       "723   2   4   2   0   0  0.830206"
      ]
     },
     "execution_count": 43,
     "metadata": {},
     "output_type": "execute_result"
    }
   ],
   "source": [
    "np.random.seed(123)\n",
    "\n",
    "df = pd.DataFrame(columns=('w1', 'w2', 'w3', 'w4','w5', 'f1_score'))\n",
    "\n",
    "i = 0\n",
    "for w1 in range(1,5):\n",
    "    for w2 in range(1,5):\n",
    "        for w3 in range(1,5):\n",
    "            for w4 in range(0,5): # KNN and GNB did not perform well, so they can be left out\n",
    "                for w5 in range(0,5):\n",
    "\n",
    "                    if len(set((w1,w2,w3,w4,w5))) == 1: # skip if all weights are equal\n",
    "                        continue\n",
    "\n",
    "                    en_weights_pred_train = np.fix(np.average([lg_pred, svc_pred, dt_pred,knn_pred,gnb_pred],axis=0, \n",
    "                                     weights=[w1,w2,w3,w4,w5]))\n",
    "                            \n",
    "                    score = f1_score(train_labels, en_weights_pred_train, average='weighted')\n",
    "\n",
    "                    df.loc[i] = [w1,w2,w3,w4,w5, score]\n",
    "                    i += 1\n",
    "\n",
    "df.sort(columns=['f1_score'], ascending=False).head(5)"
   ]
  },
  {
   "cell_type": "code",
   "execution_count": 44,
   "metadata": {
    "collapsed": false
   },
   "outputs": [],
   "source": [
    "# Democracy voting. All classifiers are treated in the same way\n",
    "en_dem_pred_test = np.fix(np.average([lg_pred_test, svc_pred_test, dt_pred_test, knn_pred_test, gnb_pred_test],axis=0, weights=[1,1,1,0,0]))\n",
    "df = test_for_kaggle_submission(en_dem_pred_test, df_submission, train_labels_raw)\n",
    "df.to_csv('voting_democracy_submission.csv')"
   ]
  },
  {
   "cell_type": "code",
   "execution_count": 112,
   "metadata": {
    "collapsed": true
   },
   "outputs": [],
   "source": [
    "en_weights_pred_test = np.fix(np.average([lg_pred_test, svc_pred_test, dt_pred_test, knn_pred_test, gnb_pred_test],axis=0, \n",
    "                                     weights=[1,1,1,0,0]))\n",
    "df = test_for_kaggle_submission(en_weights_pred_test, df_submission, train_labels_raw)\n",
    "df.to_csv('voting_weighted_submission.csv')"
   ]
  },
  {
   "cell_type": "markdown",
   "metadata": {
    "collapsed": true
   },
   "source": [
    "<h3> Let's try to train logistic regression on top of the predictions from other classifiers"
   ]
  },
  {
   "cell_type": "code",
   "execution_count": 73,
   "metadata": {
    "collapsed": false
   },
   "outputs": [],
   "source": [
    "train_cls_outcome = np.hstack([lg_pred, svc_pred, dt_pred, knn_pred, gnb_pred])"
   ]
  },
  {
   "cell_type": "code",
   "execution_count": 74,
   "metadata": {
    "collapsed": false
   },
   "outputs": [],
   "source": [
    "kf = cross_validation.KFold(n = 1996, n_folds = 5)\n",
    "clf_stack_lg = OneVsRestClassifier(LogisticRegression())\n",
    "score = cross_validation.cross_val_score(clf_stack_lg, train_cls_outcome, train_labels, cv = kf, scoring = 'f1')"
   ]
  },
  {
   "cell_type": "code",
   "execution_count": 75,
   "metadata": {
    "collapsed": false
   },
   "outputs": [
    {
     "data": {
      "text/plain": [
       "array([ 0.86481794,  0.86768413,  0.86765187,  0.87311379,  0.86235523])"
      ]
     },
     "execution_count": 75,
     "metadata": {},
     "output_type": "execute_result"
    }
   ],
   "source": [
    "score"
   ]
  },
  {
   "cell_type": "code",
   "execution_count": 76,
   "metadata": {
    "collapsed": true
   },
   "outputs": [],
   "source": [
    "param_grid_log_reg = {\"estimator__C\": [0.001, 0.01, 0.05, 0.1, 0.5, 1, 10,100],\n",
    "                     \"estimator__penalty\": ['l1', 'l2']}\n",
    "\n",
    "grid_stack_lg = GridSearchCV(OneVsRestClassifier(LogisticRegression()), param_grid_log_reg, scoring='f1')"
   ]
  },
  {
   "cell_type": "code",
   "execution_count": 77,
   "metadata": {
    "collapsed": true
   },
   "outputs": [],
   "source": [
    "grid_stack_lg = grid_stack_lg.fit(train_cls_outcome, train_labels)"
   ]
  },
  {
   "cell_type": "code",
   "execution_count": 78,
   "metadata": {
    "collapsed": false
   },
   "outputs": [
    {
     "data": {
      "text/plain": [
       "{'estimator__C': 0.5, 'estimator__penalty': 'l1'}"
      ]
     },
     "execution_count": 78,
     "metadata": {},
     "output_type": "execute_result"
    }
   ],
   "source": [
    "grid_stack_lg.best_params_"
   ]
  },
  {
   "cell_type": "code",
   "execution_count": 57,
   "metadata": {
    "collapsed": false
   },
   "outputs": [
    {
     "data": {
      "text/plain": [
       "0.86597507680261832"
      ]
     },
     "execution_count": 57,
     "metadata": {},
     "output_type": "execute_result"
    }
   ],
   "source": [
    "grid_stack_lg.best_score_"
   ]
  },
  {
   "cell_type": "code",
   "execution_count": 79,
   "metadata": {
    "collapsed": false
   },
   "outputs": [],
   "source": [
    "clf_stack_lg = OneVsRestClassifier(LogisticRegression(C=0.5, penalty = 'l1'))\n",
    "clf_stack_lg = clf_stack_lg.fit(train_cls_outcome, train_labels)"
   ]
  },
  {
   "cell_type": "code",
   "execution_count": 80,
   "metadata": {
    "collapsed": false
   },
   "outputs": [],
   "source": [
    "lg_stack_pred_test = clf_stack_lg.predict(np.hstack([lg_pred_test,svc_pred_test, dt_pred_test, knn_pred_test, gnb_pred_test]))"
   ]
  },
  {
   "cell_type": "code",
   "execution_count": 81,
   "metadata": {
    "collapsed": false
   },
   "outputs": [],
   "source": [
    "df = test_for_kaggle_submission(lg_stack_pred_test, df_submission, train_labels_raw)\n",
    "df.to_csv('voting_stack_log_reg_submission.csv')"
   ]
  },
  {
   "cell_type": "markdown",
   "metadata": {},
   "source": [
    "----------------------"
   ]
  },
  {
   "cell_type": "markdown",
   "metadata": {},
   "source": [
    "<h1> Trying the classifier on my photos"
   ]
  },
  {
   "cell_type": "code",
   "execution_count": 85,
   "metadata": {
    "collapsed": true
   },
   "outputs": [],
   "source": [
    "import scipy.io as sio\n",
    "mat_photos = sio.loadmat('my_pics_in_restraunts/mat_CNN_fc7_fc8.mat')['my_photo_cnn_outcome']"
   ]
  },
  {
   "cell_type": "code",
   "execution_count": 100,
   "metadata": {
    "collapsed": false
   },
   "outputs": [],
   "source": [
    "names_photos = []\n",
    "fc7_codes = []\n",
    "fc8_codes = []\n",
    "for i in np.arange(0, len(mat_photos)):\n",
    "    names_photos.append(str(mat_photos[i][0][0]['name'][0][0]))\n",
    "    fc7_codes.append(mat_photos[i][0][0]['fc7'][0].flatten())\n",
    "    fc8_codes.append(mat_photos[i][0][0]['fc8'][0].flatten())"
   ]
  },
  {
   "cell_type": "code",
   "execution_count": 104,
   "metadata": {
    "collapsed": true
   },
   "outputs": [],
   "source": [
    "data_photos_fc7 = np.array(fc7_codes)\n",
    "data_photos_fc8 = np.array(fc8_codes)\n",
    "data_photos_fc7_fc8 = np.hstack([data_photos_fc7,data_photos_fc8])"
   ]
  },
  {
   "cell_type": "code",
   "execution_count": 105,
   "metadata": {
    "collapsed": false
   },
   "outputs": [],
   "source": [
    "data_photos_fc7_fc8_pca100 = PCA1.transform(data_photos_fc7_fc8)"
   ]
  },
  {
   "cell_type": "code",
   "execution_count": 106,
   "metadata": {
    "collapsed": true
   },
   "outputs": [],
   "source": [
    "labels_my_photos_svc = clf_svc.predict(data_photos_fc7_fc8_pca100)"
   ]
  },
  {
   "cell_type": "code",
   "execution_count": 109,
   "metadata": {
    "collapsed": true
   },
   "outputs": [],
   "source": [
    "ML = MultiLabelBinarizer()\n",
    "ML.fit_transform(train_labels_raw)\n",
    "labels_my_photos_svc123 = ML.inverse_transform(labels_my_photos_svc)"
   ]
  },
  {
   "cell_type": "code",
   "execution_count": 111,
   "metadata": {
    "collapsed": false,
    "scrolled": true
   },
   "outputs": [
    {
     "data": {
      "text/html": [
       "<div>\n",
       "<table border=\"1\" class=\"dataframe\">\n",
       "  <thead>\n",
       "    <tr style=\"text-align: right;\">\n",
       "      <th></th>\n",
       "      <th>predicted_labels</th>\n",
       "    </tr>\n",
       "  </thead>\n",
       "  <tbody>\n",
       "    <tr>\n",
       "      <th>20150222_165239.jpg</th>\n",
       "      <td>(5.0, 6.0)</td>\n",
       "    </tr>\n",
       "    <tr>\n",
       "      <th>20150726_213408.jpg</th>\n",
       "      <td>(1.0, 2.0, 4.0, 5.0, 6.0)</td>\n",
       "    </tr>\n",
       "    <tr>\n",
       "      <th>20160127_011959.jpg</th>\n",
       "      <td>(6.0,)</td>\n",
       "    </tr>\n",
       "    <tr>\n",
       "      <th>20160127_211522-2.jpg</th>\n",
       "      <td>(0.0, 6.0, 8.0)</td>\n",
       "    </tr>\n",
       "    <tr>\n",
       "      <th>20160128_175422-2.jpg</th>\n",
       "      <td>(6.0, 8.0)</td>\n",
       "    </tr>\n",
       "    <tr>\n",
       "      <th>20160131_122708.jpg</th>\n",
       "      <td>(0.0, 8.0)</td>\n",
       "    </tr>\n",
       "    <tr>\n",
       "      <th>20160219_124626.jpg</th>\n",
       "      <td>(0.0, 8.0)</td>\n",
       "    </tr>\n",
       "    <tr>\n",
       "      <th>20160221_083708.jpg</th>\n",
       "      <td>(8.0,)</td>\n",
       "    </tr>\n",
       "    <tr>\n",
       "      <th>20160224_144505.jpg</th>\n",
       "      <td>(0.0, 5.0)</td>\n",
       "    </tr>\n",
       "    <tr>\n",
       "      <th>20160330_175844.jpg</th>\n",
       "      <td>(8.0,)</td>\n",
       "    </tr>\n",
       "    <tr>\n",
       "      <th>20160330_175851.jpg</th>\n",
       "      <td>(8.0,)</td>\n",
       "    </tr>\n",
       "  </tbody>\n",
       "</table>\n",
       "</div>"
      ],
      "text/plain": [
       "                                predicted_labels\n",
       "20150222_165239.jpg                   (5.0, 6.0)\n",
       "20150726_213408.jpg    (1.0, 2.0, 4.0, 5.0, 6.0)\n",
       "20160127_011959.jpg                       (6.0,)\n",
       "20160127_211522-2.jpg            (0.0, 6.0, 8.0)\n",
       "20160128_175422-2.jpg                 (6.0, 8.0)\n",
       "20160131_122708.jpg                   (0.0, 8.0)\n",
       "20160219_124626.jpg                   (0.0, 8.0)\n",
       "20160221_083708.jpg                       (8.0,)\n",
       "20160224_144505.jpg                   (0.0, 5.0)\n",
       "20160330_175844.jpg                       (8.0,)\n",
       "20160330_175851.jpg                       (8.0,)"
      ]
     },
     "execution_count": 111,
     "metadata": {},
     "output_type": "execute_result"
    }
   ],
   "source": [
    "pd.DataFrame({'predicted_labels': labels_my_photos_svc123}, index = names_photos)"
   ]
  },
  {
   "cell_type": "code",
   "execution_count": null,
   "metadata": {
    "collapsed": true
   },
   "outputs": [],
   "source": []
  }
 ],
 "metadata": {
  "kernelspec": {
   "display_name": "Python 2",
   "language": "python",
   "name": "python2"
  },
  "language_info": {
   "codemirror_mode": {
    "name": "ipython",
    "version": 2
   },
   "file_extension": ".py",
   "mimetype": "text/x-python",
   "name": "python",
   "nbconvert_exporter": "python",
   "pygments_lexer": "ipython2",
   "version": "2.7.11"
  }
 },
 "nbformat": 4,
 "nbformat_minor": 0
}
