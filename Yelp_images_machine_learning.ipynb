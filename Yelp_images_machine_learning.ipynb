{
 "cells": [
  {
   "cell_type": "code",
   "execution_count": 5,
   "metadata": {
    "collapsed": false
   },
   "outputs": [],
   "source": [
    "import pandas as pd\n",
    "import numpy as np\n",
    "import os\n",
    "from sklearn.preprocessing import MultiLabelBinarizer\n",
    "from sklearn.svm import SVC\n",
    "from sklearn.linear_model import LogisticRegression\n",
    "from sklearn.multiclass import OneVsRestClassifier\n",
    "from sklearn import cross_validation\n",
    "from sklearn.decomposition import PCA"
   ]
  },
  {
   "cell_type": "markdown",
   "metadata": {},
   "source": [
    "<h1> Loading a data frame with business ids and restrant labels"
   ]
  },
  {
   "cell_type": "code",
   "execution_count": 6,
   "metadata": {
    "collapsed": false
   },
   "outputs": [
    {
     "data": {
      "text/html": [
       "<div>\n",
       "<table border=\"1\" class=\"dataframe\">\n",
       "  <thead>\n",
       "    <tr style=\"text-align: right;\">\n",
       "      <th></th>\n",
       "      <th>business_id</th>\n",
       "      <th>labels</th>\n",
       "    </tr>\n",
       "  </thead>\n",
       "  <tbody>\n",
       "    <tr>\n",
       "      <th>0</th>\n",
       "      <td>1000</td>\n",
       "      <td>1 2 3 4 5 6 7</td>\n",
       "    </tr>\n",
       "    <tr>\n",
       "      <th>1</th>\n",
       "      <td>1001</td>\n",
       "      <td>0 1 6 8</td>\n",
       "    </tr>\n",
       "    <tr>\n",
       "      <th>2</th>\n",
       "      <td>100</td>\n",
       "      <td>1 2 4 5 6 7</td>\n",
       "    </tr>\n",
       "    <tr>\n",
       "      <th>3</th>\n",
       "      <td>1006</td>\n",
       "      <td>1 2 4 5 6</td>\n",
       "    </tr>\n",
       "    <tr>\n",
       "      <th>4</th>\n",
       "      <td>1010</td>\n",
       "      <td>0 6 8</td>\n",
       "    </tr>\n",
       "  </tbody>\n",
       "</table>\n",
       "</div>"
      ],
      "text/plain": [
       "   business_id         labels\n",
       "0         1000  1 2 3 4 5 6 7\n",
       "1         1001        0 1 6 8\n",
       "2          100    1 2 4 5 6 7\n",
       "3         1006      1 2 4 5 6\n",
       "4         1010          0 6 8"
      ]
     },
     "execution_count": 6,
     "metadata": {},
     "output_type": "execute_result"
    }
   ],
   "source": [
    "df_train_labels = pd.DataFrame.from_csv('train.csv')\n",
    "df_train_labels.reset_index(level=0, inplace=True)\n",
    "df_train_labels.head(5)"
   ]
  },
  {
   "cell_type": "markdown",
   "metadata": {},
   "source": [
    "<h1> Loading mean CNN codes"
   ]
  },
  {
   "cell_type": "markdown",
   "metadata": {},
   "source": [
    "<h2> Features used in classifying"
   ]
  },
  {
   "cell_type": "code",
   "execution_count": 9,
   "metadata": {
    "collapsed": true
   },
   "outputs": [],
   "source": [
    "def df_train_for_classifier(layer, df_train_labels):\n",
    "    name_df = 'df_train_'+layer\n",
    "    df = pd.read_pickle(name_df)\n",
    "    df.reset_index(level=0, inplace=True)\n",
    "    df = pd.merge(df, df_train_labels, on = 'business_id')\n",
    "    df = df.dropna(how = 'any')\n",
    "    df['meanCNN'] = df['meanCNN'].apply(lambda x: list(x))\n",
    "    \n",
    "    data = df['meanCNN']\n",
    "    data = np.array([x for x in data])\n",
    "    \n",
    "    df['labels'] = df['labels'].apply(lambda x: map(float, x.split(' ')))\n",
    "    labels = MultiLabelBinarizer().fit_transform(df['labels'])\n",
    "    labels[0:5]\n",
    "    \n",
    "    return data, labels"
   ]
  },
  {
   "cell_type": "code",
   "execution_count": 10,
   "metadata": {
    "collapsed": false
   },
   "outputs": [],
   "source": [
    "train_data_fc6, train_labels = df_train_for_classifier('fc6', df_train_labels)\n",
    "train_data_fc7, train_labels = df_train_for_classifier('fc7', df_train_labels)\n",
    "train_data_fc8, train_labels = df_train_for_classifier('fc8', df_train_labels)\n",
    "train_data_prob, train_labels = df_train_for_classifier('prob', df_train_labels)"
   ]
  },
  {
   "cell_type": "code",
   "execution_count": 14,
   "metadata": {
    "collapsed": true
   },
   "outputs": [],
   "source": [
    "features_combinations = [train_data_fc6, train_data_fc7, train_data_fc8, train_data_prob, \n",
    "                         np.hstack((train_data_fc6, train_data_fc7)), np.hstack((train_data_fc7, train_data_fc8)),\n",
    "                        np.hstack((train_data_fc8, train_data_prob)), np.hstack((train_data_fc6, train_data_fc8)),\n",
    "                        np.hstack((train_data_fc6, train_data_prob)), np.hstack((train_data_fc7, train_data_prob)),\n",
    "                        np.hstack((train_data_fc6, train_data_fc7, train_data_fc8)), \n",
    "                        np.hstack((train_data_fc7, train_data_fc8, train_data_prob)),\n",
    "                        np.hstack((train_data_fc6, train_data_fc8, train_data_prob)),\n",
    "                         np.hstack((train_data_fc6, train_data_fc7, train_data_prob)),\n",
    "                        np.hstack((train_data_fc6, train_data_fc7, train_data_fc8, train_data_prob)),]"
   ]
  },
  {
   "cell_type": "code",
   "execution_count": 16,
   "metadata": {
    "collapsed": false
   },
   "outputs": [
    {
     "data": {
      "text/plain": [
       "9216L"
      ]
     },
     "execution_count": 16,
     "metadata": {},
     "output_type": "execute_result"
    }
   ],
   "source": [
    "train_data_fc6.shape[1]"
   ]
  },
  {
   "cell_type": "markdown",
   "metadata": {},
   "source": [
    "<h1> Training a classifier"
   ]
  },
  {
   "cell_type": "code",
   "execution_count": 55,
   "metadata": {
    "collapsed": true
   },
   "outputs": [],
   "source": [
    "##Cross-validation\n",
    "kf = cross_validation.KFold(n = 1996, n_folds = 5)"
   ]
  },
  {
   "cell_type": "markdown",
   "metadata": {},
   "source": [
    "<h2> Logistic Regression"
   ]
  },
  {
   "cell_type": "markdown",
   "metadata": {},
   "source": [
    "<h3> Testing performance of PCA decomposition on features"
   ]
  },
  {
   "cell_type": "code",
   "execution_count": 56,
   "metadata": {
    "collapsed": true
   },
   "outputs": [],
   "source": [
    "def cv_pca_decomp(clf, data, labels, n_comp_ar):\n",
    "    kf = cross_validation.KFold(n = 1996, n_folds = 5)\n",
    "    meanscores_pca = []\n",
    "    meanscore_def = np.mean(cross_validation.cross_val_score(clf, data, labels, cv = kf, scoring = 'f1'))\n",
    "    \n",
    "    for n in n_comp_ar:\n",
    "        if data_fc6.shape[1]\n",
    "        data_reduced = PCA(n_components=n).fit_transform(data)\n",
    "        score = np.mean(cross_validation.cross_val_score(clf, data_reduced, labels, cv = kf, scoring = 'f1'))\n",
    "        meanscores_pca.append(score)\n",
    "    \n",
    "    return meanscore_def, meanscores_pca"
   ]
  },
  {
   "cell_type": "markdown",
   "metadata": {},
   "source": [
    "<h4> fc6 layer"
   ]
  },
  {
   "cell_type": "code",
   "execution_count": 57,
   "metadata": {
    "collapsed": false
   },
   "outputs": [],
   "source": [
    "clf = OneVsRestClassifier(LogisticRegression())"
   ]
  },
  {
   "cell_type": "code",
   "execution_count": 58,
   "metadata": {
    "collapsed": true
   },
   "outputs": [],
   "source": [
    "n_comp_ar_fc6 = [100, 250, 500, 1000, 2000]"
   ]
  },
  {
   "cell_type": "code",
   "execution_count": 59,
   "metadata": {
    "collapsed": false
   },
   "outputs": [],
   "source": [
    "meanscore_def_fc6, meanscores_pca_fc6 = cv_pca_decomp(clf, train_data_fc6, train_labels, n_comp_ar_fc6)"
   ]
  },
  {
   "cell_type": "code",
   "execution_count": 77,
   "metadata": {
    "collapsed": false
   },
   "outputs": [
    {
     "data": {
      "text/plain": [
       "0.80221692173947312"
      ]
     },
     "execution_count": 77,
     "metadata": {},
     "output_type": "execute_result"
    }
   ],
   "source": [
    "meanscore_def_fc6"
   ]
  },
  {
   "cell_type": "code",
   "execution_count": 78,
   "metadata": {
    "collapsed": false
   },
   "outputs": [
    {
     "data": {
      "text/plain": [
       "[0.8218118289853743,\n",
       " 0.79799529103833633,\n",
       " 0.73070771747756902,\n",
       " 0.73005789762394779,\n",
       " 0.7651011211350921]"
      ]
     },
     "execution_count": 78,
     "metadata": {},
     "output_type": "execute_result"
    }
   ],
   "source": [
    "meanscores_pca_fc6"
   ]
  },
  {
   "cell_type": "markdown",
   "metadata": {},
   "source": [
    "<h4> fc7 layer"
   ]
  },
  {
   "cell_type": "code",
   "execution_count": 60,
   "metadata": {
    "collapsed": true
   },
   "outputs": [],
   "source": [
    "clf = OneVsRestClassifier(LogisticRegression())"
   ]
  },
  {
   "cell_type": "code",
   "execution_count": 61,
   "metadata": {
    "collapsed": true
   },
   "outputs": [],
   "source": [
    "n_comp_ar_fc7 = [100, 250, 500, 1000, 2000]"
   ]
  },
  {
   "cell_type": "code",
   "execution_count": 62,
   "metadata": {
    "collapsed": true
   },
   "outputs": [],
   "source": [
    "meanscore_def_fc7, meanscores_pca_fc7 = cv_pca_decomp(clf, train_data_fc7, train_labels, n_comp_ar_fc7)"
   ]
  },
  {
   "cell_type": "code",
   "execution_count": 75,
   "metadata": {
    "collapsed": false
   },
   "outputs": [
    {
     "data": {
      "text/plain": [
       "0.81775497031085409"
      ]
     },
     "execution_count": 75,
     "metadata": {},
     "output_type": "execute_result"
    }
   ],
   "source": [
    "meanscore_def_fc7"
   ]
  },
  {
   "cell_type": "code",
   "execution_count": 76,
   "metadata": {
    "collapsed": false
   },
   "outputs": [
    {
     "data": {
      "text/plain": [
       "[0.82669733955585234,\n",
       " 0.80373275431291202,\n",
       " 0.77140382030287136,\n",
       " 0.7818206988484766,\n",
       " 0.80902744619752853]"
      ]
     },
     "execution_count": 76,
     "metadata": {},
     "output_type": "execute_result"
    }
   ],
   "source": [
    "meanscores_pca_fc7"
   ]
  },
  {
   "cell_type": "markdown",
   "metadata": {},
   "source": [
    "<h4> fc8 layer"
   ]
  },
  {
   "cell_type": "code",
   "execution_count": 65,
   "metadata": {
    "collapsed": true
   },
   "outputs": [],
   "source": [
    "clf = OneVsRestClassifier(LogisticRegression())"
   ]
  },
  {
   "cell_type": "code",
   "execution_count": 66,
   "metadata": {
    "collapsed": true
   },
   "outputs": [],
   "source": [
    "n_comp_ar_fc8 = [100, 250, 500, 1000, 2000]"
   ]
  },
  {
   "cell_type": "code",
   "execution_count": 67,
   "metadata": {
    "collapsed": true
   },
   "outputs": [],
   "source": [
    "meanscore_def_fc8, meanscores_pca_fc8 = cv_pca_decomp(clf, train_data_fc8, train_labels, n_comp_ar_fc8)"
   ]
  },
  {
   "cell_type": "code",
   "execution_count": 73,
   "metadata": {
    "collapsed": false
   },
   "outputs": [
    {
     "data": {
      "text/plain": [
       "0.82350867676710282"
      ]
     },
     "execution_count": 73,
     "metadata": {},
     "output_type": "execute_result"
    }
   ],
   "source": [
    "meanscore_def_fc8"
   ]
  },
  {
   "cell_type": "code",
   "execution_count": 74,
   "metadata": {
    "collapsed": false
   },
   "outputs": [
    {
     "data": {
      "text/plain": [
       "[0.8258969760951016,\n",
       " 0.8123537749057661,\n",
       " 0.80430028091461792,\n",
       " 0.80941761717133553,\n",
       " 0.82246136336677333]"
      ]
     },
     "execution_count": 74,
     "metadata": {},
     "output_type": "execute_result"
    }
   ],
   "source": [
    "meanscores_pca_fc8"
   ]
  },
  {
   "cell_type": "markdown",
   "metadata": {},
   "source": [
    "<h4> prob layer"
   ]
  },
  {
   "cell_type": "code",
   "execution_count": 68,
   "metadata": {
    "collapsed": true
   },
   "outputs": [],
   "source": [
    "clf = OneVsRestClassifier(LogisticRegression())"
   ]
  },
  {
   "cell_type": "code",
   "execution_count": 69,
   "metadata": {
    "collapsed": true
   },
   "outputs": [],
   "source": [
    "n_comp_ar_prob = [100, 250, 500]"
   ]
  },
  {
   "cell_type": "code",
   "execution_count": 70,
   "metadata": {
    "collapsed": true
   },
   "outputs": [],
   "source": [
    "meanscore_def_prob, meanscores_pca_prob = cv_pca_decomp(clf, train_data_prob, train_labels, n_comp_ar_prob)"
   ]
  },
  {
   "cell_type": "code",
   "execution_count": 71,
   "metadata": {
    "collapsed": false
   },
   "outputs": [
    {
     "data": {
      "text/plain": [
       "0.82048936072684175"
      ]
     },
     "execution_count": 71,
     "metadata": {},
     "output_type": "execute_result"
    }
   ],
   "source": [
    "meanscore_def_prob"
   ]
  },
  {
   "cell_type": "code",
   "execution_count": 72,
   "metadata": {
    "collapsed": false
   },
   "outputs": [
    {
     "data": {
      "text/plain": [
       "[0.82362399585343427, 0.81815075811955995, 0.8181896981818344]"
      ]
     },
     "execution_count": 72,
     "metadata": {},
     "output_type": "execute_result"
    }
   ],
   "source": [
    "meanscores_pca_prob"
   ]
  },
  {
   "cell_type": "markdown",
   "metadata": {},
   "source": [
    "<h2> Feature selection"
   ]
  },
  {
   "cell_type": "code",
   "execution_count": 81,
   "metadata": {
    "collapsed": false
   },
   "outputs": [],
   "source": [
    "train_data_prob_pca = PCA(n_components=100).fit_transform(train_data_prob)\n",
    "train_data_fc8_pca = PCA(n_components=100).fit_transform(train_data_fc8)"
   ]
  },
  {
   "cell_type": "code",
   "execution_count": 109,
   "metadata": {
    "collapsed": false
   },
   "outputs": [],
   "source": [
    "\n",
    "train_data_merged = np.array([ [ [None] * 100 ] * 2 ] * 1996)"
   ]
  },
  {
   "cell_type": "code",
   "execution_count": 112,
   "metadata": {
    "collapsed": false
   },
   "outputs": [],
   "source": [
    "train_data_merged[:,0,:] = train_data_prob_pca\n",
    "train_data_merged[:,1,:] = train_data_fc8_pca"
   ]
  },
  {
   "cell_type": "code",
   "execution_count": 101,
   "metadata": {
    "collapsed": false
   },
   "outputs": [
    {
     "data": {
      "text/plain": [
       "(1996L, 200L)"
      ]
     },
     "execution_count": 101,
     "metadata": {},
     "output_type": "execute_result"
    }
   ],
   "source": [
    "train_data_merged.shape"
   ]
  },
  {
   "cell_type": "code",
   "execution_count": 102,
   "metadata": {
    "collapsed": false
   },
   "outputs": [],
   "source": [
    "clf = OneVsRestClassifier(LogisticRegression())"
   ]
  },
  {
   "cell_type": "code",
   "execution_count": 103,
   "metadata": {
    "collapsed": false
   },
   "outputs": [
    {
     "data": {
      "text/plain": [
       "OneVsRestClassifier(estimator=LogisticRegression(C=1.0, class_weight=None, dual=False, fit_intercept=True,\n",
       "          intercept_scaling=1, penalty='l2', random_state=None, tol=0.0001),\n",
       "          n_jobs=1)"
      ]
     },
     "execution_count": 103,
     "metadata": {},
     "output_type": "execute_result"
    }
   ],
   "source": [
    "clf.fit(train_data_merged, train_labels)"
   ]
  },
  {
   "cell_type": "code",
   "execution_count": 105,
   "metadata": {
    "collapsed": false
   },
   "outputs": [],
   "source": [
    "from sklearn.ensemble import ExtraTreesClassifier\n",
    "#from sklearn.feature_selection import SelectFromModel\n",
    "\n",
    "clf1 = ExtraTreesClassifier()\n",
    "clf1 = clf1.fit(train_data_merged, train_labels)"
   ]
  },
  {
   "cell_type": "code",
   "execution_count": 106,
   "metadata": {
    "collapsed": false
   },
   "outputs": [
    {
     "data": {
      "text/plain": [
       "array([ 0.01707788,  0.09382154,  0.00727953,  0.00614648,  0.01223888,\n",
       "        0.0042293 ,  0.00672845,  0.00457678,  0.00458908,  0.0042456 ,\n",
       "        0.00361333,  0.00527951,  0.0038351 ,  0.00606363,  0.00347546,\n",
       "        0.00472472,  0.00404265,  0.00315796,  0.00402542,  0.00595364,\n",
       "        0.00453583,  0.00493203,  0.00422415,  0.005062  ,  0.00409372,\n",
       "        0.0038246 ,  0.00528413,  0.00431867,  0.00535984,  0.0030405 ,\n",
       "        0.00424616,  0.00426882,  0.00428553,  0.00464585,  0.0035676 ,\n",
       "        0.0044819 ,  0.003922  ,  0.00412429,  0.004067  ,  0.00347043,\n",
       "        0.00512448,  0.00495438,  0.00289071,  0.00352649,  0.00366223,\n",
       "        0.00298616,  0.00344891,  0.00370431,  0.0036195 ,  0.00332651,\n",
       "        0.00410988,  0.00425959,  0.00328322,  0.004344  ,  0.00300951,\n",
       "        0.00383969,  0.00413217,  0.0035858 ,  0.00413964,  0.00298178,\n",
       "        0.00438126,  0.00331789,  0.0036828 ,  0.00340015,  0.00417786,\n",
       "        0.00363609,  0.00365135,  0.0040009 ,  0.00352031,  0.0033362 ,\n",
       "        0.00355225,  0.00392918,  0.00446091,  0.00375131,  0.00355068,\n",
       "        0.00319766,  0.0040604 ,  0.00352174,  0.00345556,  0.00426575,\n",
       "        0.00401083,  0.00286352,  0.00377671,  0.00327549,  0.00286207,\n",
       "        0.00339474,  0.00304958,  0.00390596,  0.00470367,  0.00396076,\n",
       "        0.00340661,  0.00426838,  0.00407071,  0.00364857,  0.00288295,\n",
       "        0.00394807,  0.00399605,  0.0038183 ,  0.0037707 ,  0.00286715,\n",
       "        0.01044011,  0.0638886 ,  0.01943869,  0.00746484,  0.00457026,\n",
       "        0.00960563,  0.01625521,  0.0055561 ,  0.00379186,  0.00467195,\n",
       "        0.00446786,  0.00348364,  0.0063998 ,  0.00427229,  0.00558999,\n",
       "        0.00451204,  0.00425227,  0.00406804,  0.00416445,  0.00377522,\n",
       "        0.00433738,  0.00384956,  0.0033133 ,  0.00538371,  0.00531946,\n",
       "        0.00443837,  0.00423699,  0.00359133,  0.0032875 ,  0.00424541,\n",
       "        0.003549  ,  0.00387434,  0.00392916,  0.00417449,  0.0046731 ,\n",
       "        0.00362252,  0.00419348,  0.00386041,  0.00382445,  0.00472666,\n",
       "        0.00429544,  0.00389432,  0.00335426,  0.00386952,  0.00401799,\n",
       "        0.0045284 ,  0.00410034,  0.00247691,  0.00418954,  0.004556  ,\n",
       "        0.00303381,  0.00247734,  0.00422787,  0.00413146,  0.00470974,\n",
       "        0.00251422,  0.00400528,  0.00356275,  0.00386591,  0.00380999,\n",
       "        0.00351436,  0.00317308,  0.00248407,  0.00268966,  0.00444336,\n",
       "        0.00313832,  0.00361586,  0.00403742,  0.00353484,  0.00343054,\n",
       "        0.0037168 ,  0.00281431,  0.0035896 ,  0.00299306,  0.00290165,\n",
       "        0.00313513,  0.0029108 ,  0.00438266,  0.00415425,  0.00358585,\n",
       "        0.00239676,  0.0036793 ,  0.00375403,  0.00318908,  0.00363397,\n",
       "        0.00370285,  0.00337594,  0.00334743,  0.00397957,  0.00465048,\n",
       "        0.00327388,  0.0029982 ,  0.00313773,  0.0031068 ,  0.00324561,\n",
       "        0.00495453,  0.00287551,  0.00313699,  0.0036159 ,  0.00385929])"
      ]
     },
     "execution_count": 106,
     "metadata": {},
     "output_type": "execute_result"
    }
   ],
   "source": [
    "clf1.feature_importances_"
   ]
  },
  {
   "cell_type": "markdown",
   "metadata": {
    "collapsed": true
   },
   "source": [
    "<h2> SVC with linear kernel"
   ]
  },
  {
   "cell_type": "code",
   "execution_count": 12,
   "metadata": {
    "collapsed": true
   },
   "outputs": [],
   "source": [
    "clf_svc = OneVsRestClassifier(SVC(kernel = 'linear', probability = True))"
   ]
  },
  {
   "cell_type": "code",
   "execution_count": null,
   "metadata": {
    "collapsed": true
   },
   "outputs": [],
   "source": [
    "scores = cross_validation.cross_val_score(clf_svc, train_data, train_labels, cv = kf, scoring = 'f1')"
   ]
  },
  {
   "cell_type": "code",
   "execution_count": null,
   "metadata": {
    "collapsed": false
   },
   "outputs": [],
   "source": [
    "scores"
   ]
  },
  {
   "cell_type": "code",
   "execution_count": null,
   "metadata": {
    "collapsed": true
   },
   "outputs": [],
   "source": []
  }
 ],
 "metadata": {
  "kernelspec": {
   "display_name": "Python 2",
   "language": "python",
   "name": "python2"
  },
  "language_info": {
   "codemirror_mode": {
    "name": "ipython",
    "version": 2
   },
   "file_extension": ".py",
   "mimetype": "text/x-python",
   "name": "python",
   "nbconvert_exporter": "python",
   "pygments_lexer": "ipython2",
   "version": "2.7.11"
  }
 },
 "nbformat": 4,
 "nbformat_minor": 0
}
